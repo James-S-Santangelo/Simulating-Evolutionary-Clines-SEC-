{
 "cells": [
  {
   "cell_type": "markdown",
   "metadata": {},
   "source": [
    "# Serial founder events with migration, founder events and allele frequency variation\n",
    "\n",
    "In these simulations, the urban environment was colonized through serial founder events beginning from a single rural population at carrying capcity. Simulations varried the initial frequency of both dominant alleles (i.e. _CYP79D15_ and _Li_) in the starting rural population. We performed simulations under 3 migration rates: 0, 0.01, 0.05. Similarly, we used 3 fouding proportions: 0.01, 0.2, 1.0. The parameter combinations were as follows (all varied parameters crossed factorially, total simulations = 81): \n",
    "\n",
    "* Number of simulations: 1000\n",
    "* Number of generations: 500 (following filling of matrix)\n",
    "* Max Creation probability: 1.0\n",
    "* Bottleneck proportion: [0.01; 0.2; 1.0]\n",
    "* pA and pB: [0.1; 0.5; 0.9] and [0.1; 0.5; 0.9]\n",
    "* Migration rate: [0; 0.01; 0.05]\n",
    "* Maximum _K_ (rural): 1000\n",
    "* Minimum _K_ (urban): 1000"
   ]
  },
  {
   "cell_type": "code",
   "execution_count": null,
   "metadata": {},
   "outputs": [],
   "source": [
    "library(plyr)\n",
    "library(ggplot2)\n",
    "library(data.table)\n",
    "library(Rmisc)\n",
    "library(dplyr)"
   ]
  },
  {
   "cell_type": "code",
   "execution_count": null,
   "metadata": {},
   "outputs": [],
   "source": [
    "#Working directory for datasets varying migration rate and bottleneck proportion \n",
    "setwd('/scratch/research/projects/trifolium/SEC_Simulation.Evolutionary.Clines/SEC_Data/drift-migration/1D/AlleleFreq_Vary/one-fill/')\n",
    "\n",
    "#Load datasets that will be used for analyses\n",
    "datSlopes <- fread('20171016_SlopeSum_Gen_AlleleFreq-Merged.csv', header = T)\n",
    "datSlopes$AlleleFreqs <- paste(datSlopes$pA_start, datSlopes$pB_start, sep = \"-\")\n",
    "datSlopes$AlleleFreqs <- as.factor(as.character(datSlopes$AlleleFreqs))\n",
    "datSlopes$AlleleFreqs <- factor(datSlopes$AlleleFreqs, levels=c(\"0.1-0.1\", \"0.1-0.5\", \"0.5-0.1\", \"0.1-0.9\", \n",
    "                                                                \"0.9-0.1\", \"0.5-0.5\", \"0.5-0.9\", \"0.9-0.5\", \n",
    "                                                                \"0.9-0.9\"))\n",
    "\n",
    "#Data subsets\n",
    "datSlopes_GenOne <- subset(datSlopes, seq == \"1\")\n",
    "# datFreqFirst_bot001_NoMig <- subset(datFreqFirst, bot == \"0.01\" & Mig_rate == \"0\")\n",
    "# datFreqFirst_bot02_NoMig <- subset(datFreqFirst, bot == \"0.2\" & Mig_rate == \"0\")\n",
    "# datFreqFirst_bot001_HighMig <- subset(datFreqFirst, bot == \"0.01\" & Mig_rate == \"0.05\")"
   ]
  }
 ],
 "metadata": {
  "kernelspec": {
   "display_name": "R",
   "language": "R",
   "name": "ir"
  },
  "language_info": {
   "codemirror_mode": "r",
   "file_extension": ".r",
   "mimetype": "text/x-r-source",
   "name": "R",
   "pygments_lexer": "r",
   "version": "3.4.3"
  }
 },
 "nbformat": 4,
 "nbformat_minor": 2
}
