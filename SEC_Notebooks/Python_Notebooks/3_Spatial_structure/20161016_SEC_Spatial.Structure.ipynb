{
 "cells": [
  {
   "cell_type": "markdown",
   "metadata": {},
   "source": [
    "## Simulate non-cyanogenic evolution via drift alone\n",
    "\n",
    "There is a finding that across a cline from less to more urban the frequency of a non-cyanogenic phenotype increases\n",
    "The phenotype is genetically controlled by two loci, both of which have a segregating knock-out allele\n",
    "If any individual is homozygous for either knockout they become non-cyanogenic\n",
    "\n",
    "In this extremely simple simulation I create a 'population' which is represented by 2 lists of alleles (A/a and B/b)\n",
    "To simulate evolution I randomly sample with replacement from the lists to create new list that represent the next generation.\n",
    "\n",
    "By repeating this process with variable starting frequencies, population sizes and numbers of generations (functionally equivalent to steps in a strict stepping stone) we can look at the change in the frequency of cyanogenic and non-cyanogenic phenotypes"
   ]
  },
  {
   "cell_type": "code",
   "execution_count": 254,
   "metadata": {
    "collapsed": false
   },
   "outputs": [],
   "source": [
    "# Modules used throughout script\n",
    "import random\n",
    "from collections import OrderedDict\n",
    "import csv\n",
    "import time\n",
    "from datetime import datetime\n",
    "import os\n",
    "\n",
    "\n",
    "# Randomly sample 'N' alleles from lists containing alleles for locus A (allels: A or a) and locus B (alleles: B or b). \n",
    "# Return list containing sampled alleles.\n",
    "def sample_population(locus_A, locus_B, N):\n",
    "    new_locus_A = [random.choice(locus_A) for _ in range(N)]\n",
    "    new_locus_B = [random.choice(locus_B) for _ in range(N)]\n",
    "    return new_locus_A, new_locus_B\n",
    "\n",
    "# From list containing alleles, calculate the frequency of 'A' or 'B' allele. \n",
    "def allele_freq(locus):\n",
    "    p = sum(1*i.isupper() for i in locus)/float(len(locus))\n",
    "    return p\n",
    "\n",
    "# Join list containing simulation results (e.g. Population size, allele frequencies, phenotype frequency, etc.) with \n",
    "# list containing iteration number (i.e. sim)\n",
    "def final_results(results,sim):\n",
    "    return [a + b for a,b in zip(results,sim)]\n",
    "\n",
    "\n",
    "# Given the frequencies of 'A' and 'B' alleles, return the frequency of the 'acyanogenic' phenotype (i.e. recessive\n",
    "# at either the A locus, B locus, or both) \n",
    "def phenotype(pA, pB):\n",
    "    qA = 1-pA\n",
    "    qB = 1-pB\n",
    "    mut= qA**2 + qB**2 - (qA**2 * qB**2)\n",
    "    WT = 1-mut\n",
    "    return mut # Frequency of acyanogenic phenotype\n",
    "\n",
    "# Randomly samples N alleles from locus A and locus B, calculates the frequency of both alleles followed by the frequency\n",
    "# of 'acyanogenesis' phenotype and adds this frequency to step_dict list. Repeats process \"step\" times. Note that locus_A\n",
    "# and locus_B are defined in the for loop. Therefore with each generation (i.e. step), loci are sampled from those sampled\n",
    "# in the previous generation. This is analogous to a stepping stone model. \n",
    "def cline(locus_A,locus_B, steps, N):\n",
    "    for i in range(steps):\n",
    "        #print i,\n",
    "        locus_A, locus_B = (sample_population(locus_A,locus_B, N))\n",
    "        pA, pB = allele_freq(locus_A), allele_freq(locus_B)\n",
    "        #print pA, pB, phenotype(pA, pB)\n",
    "        results.append([N,i,pA,pB,phenotype(pA,pB)])\n",
    "    return results # results contains pop. size (N), step, (generation), allele frequencies and frequency of acyanogenic phenotype\n",
    "\n",
    "        \n",
    "# Using the functions defined above, 'simulate' performs 'sims' iterations of the cline function -- simulating the effects \n",
    "# of drift in a stepping stone model -- each time storing the results.\n",
    "def simulate(pA, pB, steps, N, sims):\n",
    "    qA = 1-pA # Frequency of 'a' allele\n",
    "    qB = 1-pB\n",
    "    # Make the two lists based on the allele frequency to represent the initial population\n",
    "    locus_A = (['A'] * int(N*pA) ) + (['a'] * int(round(N*qA)) ) # [A,A,A,A,a,a,a,a,....]\n",
    "    locus_B = (['B'] * int(N*pB) ) + (['b'] * int(round(N*qB)) ) \n",
    "    ####### sims simulations #####################\n",
    "    # We will simulate 'steps' iterations of resampling this population to simulate drift\n",
    "    # We will then repeat that simulation of 'steps' iterations 1000 times to get a mean\n",
    "    ##############################################\n",
    "    for i in range(sims):\n",
    "        # reset the population for each iteration. I don't actually think this is necessary\n",
    "        locus_A = (['A'] * int(N*pA) ) + (['a'] * int(round(N*qA)) ) \n",
    "        locus_B = (['B'] * int(N*pB) ) + (['b'] * int(round(N*qB)) ) \n",
    "        cline(locus_A,locus_B, steps, N) # appends results to globally defined 'results' list\n",
    "        for x in range(steps):sim.append([i])\n"
   ]
  },
  {
   "cell_type": "code",
   "execution_count": 2,
   "metadata": {
    "collapsed": false
   },
   "outputs": [
    {
     "name": "stdout",
     "output_type": "stream",
     "text": [
      "My program took 38609.6228969 seconds to run\n"
     ]
    }
   ],
   "source": [
    "##############################\n",
    "#### VARY POPULATION SIZE ####\n",
    "##############################\n",
    "\n",
    "# We will vary population size as follows:\n",
    "# Population size (N): (Start, End, By) -- (10,100,10);(100,500,100);(500,1000,500);(1000,5000,1000);(5000,10000,5000)\n",
    "# 'A' and 'B' alleles held constant at 0.5. \n",
    "# 'Steps' held constant at 50\n",
    "# 'Sims' held constant at 10000\n",
    "# All results exported as 'csv' files for import and analysis in R\n",
    "\n",
    "start_time = time.time()\n",
    "datestring = datetime.strftime(datetime.now(), '%Y%m%d')\n",
    "\n",
    "N = 10 # Starting population size (i.e. sample 10 alleles)\n",
    "pA = 0.5\n",
    "pB = 0.5\n",
    "steps = 50\n",
    "sims = 10\n",
    "results = [['N','step','pA','pB','Phen']] # Results stored here. Header added.\n",
    "sim = [['sim']] # Iteration of cline function (i.e. 'sim') stored here. Will later be appended to 'results'\n",
    "fixed = [['Up','Down']] # Proportion of simulations resulting in fixation stored here\n",
    "for i in range(100):\n",
    "    if N >=10 and N < 100: # When N between 10 and 100, run simulation, increment population size by 10\n",
    "        simulate(pA,pB,steps,N,sims) \n",
    "        N += 10\n",
    "    elif N >= 100 and N < 500:\n",
    "        simulate(pA,pB,steps,N,sims)\n",
    "        N += 100\n",
    "    elif N >= 500 and N < 1000:\n",
    "        simulate(pA,pB,steps,N,sims)\n",
    "        N += 500\n",
    "    elif N >= 1000 and N <= 5000:\n",
    "        simulate(pA,pB,steps,N,sims)\n",
    "        N += 1000\n",
    "    elif N > 5000:\n",
    "        # Once population size reaches 5000, generate final results dataset and write as 'csv' to datasets folder\n",
    "        final = final_results(results,sim) # Store final results with 'sim' appended to the rest of 'results'\n",
    "        os.chdir(\"/Users/jamessantangelo/Documents/Academia/Master's/SEC - Simulating evolutionary clines/Datasets/Nvary\")\n",
    "        with open(datestring+\"_SEC_Drift_Nvary.results.csv\", \"wb\") as f:\n",
    "            writer = csv.writer(f)\n",
    "            writer.writerows(final)\n",
    "        break\n",
    "\n",
    "# Change directory back to folder containing python code\n",
    "os.chdir(\"/Users/jamessantangelo/Documents/Academia/Master's/SEC - Simulating evolutionary clines/Python code/Nvary\")\n",
    "\n",
    "print \"My program took\", time.time() - start_time, \"seconds to run\""
   ]
  },
  {
   "cell_type": "code",
   "execution_count": 253,
   "metadata": {
    "collapsed": false
   },
   "outputs": [
    {
     "name": "stdout",
     "output_type": "stream",
     "text": [
      "Once deleted, variables cannot be recovered. Proceed (y/[n])? y\n"
     ]
    }
   ],
   "source": [
    "%reset"
   ]
  },
  {
   "cell_type": "markdown",
   "metadata": {},
   "source": [
    "What needs to be considered when adding spatial structure to these simulations?\n",
    "\n",
    "1) Need a function that creates new populations with some probability that is set by us\n",
    "2) This new function should occur within the 'cline' function such that every generation there is some probability that a new population is created. \n",
    "3) This should \"snowball\". In other words the number of populations created should increase with the total number of populations.\n",
    "4) Ideally, newly created populations should start with some fraction of alleles (specified by us), randomly sampled from the population that created it. "
   ]
  },
  {
   "cell_type": "code",
   "execution_count": 274,
   "metadata": {
    "collapsed": false,
    "scrolled": true
   },
   "outputs": [],
   "source": [
    "pops = [1,2,3,4,5]\n",
    "pop_counter = 1\n",
    "def create_population(p):\n",
    "    prob_list = (['1'] * int(10*p) ) + (['0'] * int(round(10*(1-p))))\n",
    "    create = [random.choice(prob_list) for _ in range(1)]\n",
    "    if create[0] == '1':\n",
    "        global pop_counter\n",
    "        pop_counter += 1\n",
    "        pops.append(pop_counter)"
   ]
  },
  {
   "cell_type": "code",
   "execution_count": 276,
   "metadata": {
    "collapsed": false
   },
   "outputs": [],
   "source": [
    "def cline(locus_A,locus_B, steps, N,pA,pB):\n",
    "    for s in pops:\n",
    "        for i in range(steps):\n",
    "            #print i,\n",
    "            locus_A, locus_B = (sample_population(locus_A,locus_B, N))\n",
    "            pA, pB = allele_freq(locus_A), allele_freq(locus_B)\n",
    "            #print pA, pB, phenotype(pA, pB)\n",
    "            results.append([N,s,i,pA,pB,phenotype(pA,pB)])\n",
    "    return results "
   ]
  },
  {
   "cell_type": "code",
   "execution_count": 277,
   "metadata": {
    "collapsed": false
   },
   "outputs": [
    {
     "data": {
      "text/plain": [
       "[['N', 's', 'step', 'pA', 'pB', 'Phen'],\n",
       " [10, 1, 0, 0.5, 0.8, 0.27999999999999997],\n",
       " [10, 1, 1, 0.6, 1.0, 0.16000000000000003],\n",
       " [10, 1, 2, 0.6, 1.0, 0.16000000000000003],\n",
       " [10, 1, 3, 0.5, 1.0, 0.25],\n",
       " [10, 1, 4, 0.5, 1.0, 0.25],\n",
       " [10, 2, 0, 0.2, 0.6, 0.6976000000000001],\n",
       " [10, 2, 1, 0.3, 0.6, 0.5715999999999999],\n",
       " [10, 2, 2, 0.5, 0.5, 0.4375],\n",
       " [10, 2, 3, 0.9, 0.6, 0.16840000000000005],\n",
       " [10, 2, 4, 1.0, 0.6, 0.16000000000000003],\n",
       " [10, 3, 0, 0.7, 0.6, 0.23560000000000006],\n",
       " [10, 3, 1, 0.7, 0.7, 0.17190000000000005],\n",
       " [10, 3, 2, 0.8, 0.9, 0.04959999999999998],\n",
       " [10, 3, 3, 1.0, 0.9, 0.009999999999999995],\n",
       " [10, 3, 4, 1.0, 0.9, 0.009999999999999995],\n",
       " [10, 4, 0, 0.7, 0.6, 0.23560000000000006],\n",
       " [10, 4, 1, 0.7, 0.5, 0.3175],\n",
       " [10, 4, 2, 0.9, 0.2, 0.6436000000000002],\n",
       " [10, 4, 3, 1.0, 0.1, 0.81],\n",
       " [10, 4, 4, 1.0, 0.0, 1.0],\n",
       " [10, 5, 0, 0.7, 0.0, 1.0],\n",
       " [10, 5, 1, 0.7, 0.0, 1.0],\n",
       " [10, 5, 2, 0.6, 0.0, 1.0],\n",
       " [10, 5, 3, 0.4, 0.0, 0.9999999999999999],\n",
       " [10, 5, 4, 0.8, 0.0, 1.0]]"
      ]
     },
     "execution_count": 277,
     "metadata": {},
     "output_type": "execute_result"
    }
   ],
   "source": [
    "N = 10 # Starting population size (i.e. sample 10 alleles)\n",
    "pA = 0.5\n",
    "pB = 0.5\n",
    "qA = 1 - pA\n",
    "qB = 1 - pB\n",
    "steps = 5\n",
    "sims = 10\n",
    "results = [['N','s','step','pA','pB','Phen']] # Results stored here. Header added.\n",
    "sim = [['sim']] # Iteration of cline function (i.e. 'sim') stored here. Will later be appended to 'results'\n",
    "locus_A = (['A'] * int(N*pA) ) + (['a'] * int(round(N*qA)) ) \n",
    "locus_B = (['B'] * int(N*pB) ) + (['b'] * int(round(N*qB)) ) \n",
    "cline(locus_A,locus_B,steps,N,pA,pB)"
   ]
  },
  {
   "cell_type": "code",
   "execution_count": 185,
   "metadata": {
    "collapsed": false
   },
   "outputs": [],
   "source": [
    "for _ in range(10): create_population(0.5)"
   ]
  },
  {
   "cell_type": "code",
   "execution_count": 216,
   "metadata": {
    "collapsed": false
   },
   "outputs": [
    {
     "data": {
      "text/plain": [
       "['pop.1', 'pop.2', 'pop.3', 'pop.4', 'pop.5']"
      ]
     },
     "execution_count": 216,
     "metadata": {},
     "output_type": "execute_result"
    }
   ],
   "source": [
    "pops"
   ]
  },
  {
   "cell_type": "code",
   "execution_count": null,
   "metadata": {
    "collapsed": true
   },
   "outputs": [],
   "source": []
  }
 ],
 "metadata": {
  "anaconda-cloud": {},
  "kernelspec": {
   "display_name": "Python [Root]",
   "language": "python",
   "name": "Python [Root]"
  },
  "language_info": {
   "codemirror_mode": {
    "name": "ipython",
    "version": 2
   },
   "file_extension": ".py",
   "mimetype": "text/x-python",
   "name": "python",
   "nbconvert_exporter": "python",
   "pygments_lexer": "ipython2",
   "version": "2.7.12"
  }
 },
 "nbformat": 4,
 "nbformat_minor": 0
}
