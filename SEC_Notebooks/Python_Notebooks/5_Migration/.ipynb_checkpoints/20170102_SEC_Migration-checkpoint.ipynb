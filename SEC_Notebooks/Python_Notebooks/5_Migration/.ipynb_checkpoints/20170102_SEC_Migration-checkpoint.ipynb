{
 "cells": [
  {
   "cell_type": "markdown",
   "metadata": {},
   "source": [
    "## Simulate non-cyanogenic evolution via drift alone\n",
    "\n",
    "There is a finding that across a cline from less to more urban the frequency of a non-cyanogenic phenotype increases\n",
    "The phenotype is genetically controlled by two loci, both of which have a segregating knock-out allele\n",
    "If any individual is homozygous for either knockout they become non-cyanogenic\n",
    "\n",
    "In this extremely simple simulation I create a 'population' which is represented by 2 lists of alleles (A/a and B/b)\n",
    "To simulate evolution I randomly sample with replacement from the lists to create new list that represent the next generation.\n",
    "\n",
    "By repeating this process with variable starting frequencies, population sizes and numbers of generations (functionally equivalent to steps in a strict stepping stone) we can look at the change in the frequency of cyanogenic and non-cyanogenic phenotypes"
   ]
  },
  {
   "cell_type": "markdown",
   "metadata": {},
   "source": [
    "## Extension to previous simulations — Spatial structure\n",
    "\n",
    "To build off of the previous single-population stepping stone model, I have added a few functions that allow us to add spatial structure to our simulations, effectively simulating the trajectory of multiple populations simultaneously. Once migration is added, this will be analogous to a metapopulation.\n",
    "\n",
    "#### Major changes to script\n",
    "\n",
    "1. Since there will be multiple populations, they are now stored as entries in a dictionary. Each key in the dictionarry corresponds to a population and the value is a list containing the frequencies of alleles phenotype, updated each generation. \n",
    "2. The alleles that correspond to each population are stored in a separate dictionary with keys matching those from the population dictionary. As such, allele frequencies for populations are calculated by sampling the allele lists in the 'alleles' dictionary with the key matching the population.\n",
    "3. Every generation, each population has some probability (p) of generating a new population with N alleles sampled from the population that created it. This is not the most realistic scenario but can easily be modified later. \n",
    "4. Simulations are now stored separately in a dictionary called 'sim' where each key corresponds to a simulation. \n",
    "5. These changes allow us to model clines in two ways:\n",
    "    - Clines across 'time': looking at phenotype frequencies **within** populations\n",
    "    - Clines across 'space': looking at phenotype frequencies **across** created populations"
   ]
  },
  {
   "cell_type": "markdown",
   "metadata": {},
   "source": [
    "## Extension to previous simulations — Logistic population growth\n",
    "\n",
    "To build off of the simulations that included spatial structure, I have incorporated logistic population growth into the simulations. \n",
    "\n",
    "**Major changes to script**\n",
    "\n",
    "1. Newly created populations form as a bottleneck from the population that created it. The proportion of alleles sampled is some fraction (bot) multiplied by the population size of the source population. \n",
    "2. Every generation, every population grows in size according to an approximate logistic growth curve. The logistic growth function incorporates a fractional constant that, when multiplied by the current population size, modifies the per capita growth rate of the population. The carrying capacity is thus altered by changing this fractional constant. \n",
    "3. The size of every population is stored as an integer in a list within the alleles dictionary under the key corresponding to the population. This integer is called as needed by the functions that require population size as an argument (e.g. 'bottle', 'pop_growth')."
   ]
  },
  {
   "cell_type": "markdown",
   "metadata": {},
   "source": [
    "## Extension to previous simulations — Migration\n",
    "\n",
    "To simulations that previously included spatial structure and logistic population growth, I have added migration\n",
    "\n",
    "**Major changes to script**\n",
    "\n",
    "1. Every generation, every population exchanges alleles with every other population at a rate that declines with the distance between them. Migration rate declines linearly with distance and is determined by the 'migration_rate' function. \n",
    "2. Distances between populations are calculated as the difference between the lengths of the population ID's (keys in alleles and pops dictionaries) since these track population history. As such, a larger difference = greater distance = lower migration rate. \n",
    "3. Distances and migration rates are stored in a dictionary ('Dis'), which is re-created at the start of every generation since more populations may have been generated. The key's in this dictionary are concatenated strings formed from the union of all pairwise combinations of existing populations. This makes it easy to determine the correct migration rate between all pairs of populations.\n"
   ]
  },
  {
   "cell_type": "code",
   "execution_count": 34,
   "metadata": {
    "collapsed": false
   },
   "outputs": [],
   "source": [
    "# Modules used throughout script\n",
    "import random\n",
    "from collections import OrderedDict\n",
    "import csv\n",
    "import time\n",
    "from datetime import datetime\n",
    "import os\n",
    "import itertools\n",
    "import math\n",
    "import numpy as np\n",
    "\n",
    "# Randomly sample 'N' alleles from lists containing alleles for locus A \n",
    "def sample_population_A(locus_A, N):\n",
    "    new_locus_A = [random.choice(locus_A) for _ in range(N)]\n",
    "    return new_locus_A\n",
    "\n",
    "# Randomly sample 'N' alleles from lists containing alleles for locus B\n",
    "def sample_population_B(locus_B, N):\n",
    "    new_locus_B = [random.choice(locus_B) for _ in range(N)]\n",
    "    return new_locus_B\n",
    "\n",
    "# Function used to determine migration rates based on distances between all populations. \n",
    "def migration_rate(Dis):\n",
    "    for Dkey, Dvalue in Dis.items():\n",
    "        Mig_prop = 0.1 - 0.025*Dvalue[0] # Currently, this needs to be modified depending on the desired relationship between distance and migration\n",
    "        Dis[Dkey].append(Mig_prop) # Append migration rate to 'Dis' dictionary\n",
    "        \n",
    "# Migration function for locus A. \n",
    "def migrate_A(Akey, Avalue, Dis, alleles, pop_list):\n",
    "    if len(pop_list) > 1: # Migration only occurs if there is more than one population\n",
    "        for i in pop_list:\n",
    "            if Akey == i: # Do not migrate within populations\n",
    "                pass\n",
    "            else:\n",
    "                con = Akey + '_' + i # Create concatenated string from current focal population and all other populations in 'pop_list', one at a time.\n",
    "                if con in Dis.keys(): # Search for concatenated string in 'Dis' dictionary\n",
    "                    mig_ind = int(math.ceil(Dis[con][1]*alleles[i]['S'][0])) # Calculate the number of alleles to migrate from migration rate and population size. Determined from source population\n",
    "                    locus_A_keep = (sample_population_A(Avalue['A'], Avalue['S'][0] - mig_ind)) # Create list of alleles in focal population to be kept. Random sample of existing alleles. Complement of number of migratory individuals\n",
    "                    locus_A_rep = [random.choice(alleles[i]['A']) for _ in range(mig_ind)] # Create list of replacement alleles by sampling alleles from source population. \n",
    "                    Avalue['A'] = locus_A_keep + locus_A_rep # Combine both kept and replaced alleles and \n",
    "        return Avalue['A']\n",
    "    else:\n",
    "        #If there is only one population, then resampling of existing alleles occurs (i.e. drift)\n",
    "        Avalue['A'] = sample_population_A(Avalue['A'], Avalue['S'][0])\n",
    "        return Avalue['A']\n",
    "    \n",
    "# Migration function for locus B. \n",
    "def migrate_B(Akey, Avalue, Dis, alleles, pop_list):\n",
    "    if len(pop_list) > 1:\n",
    "        for i in pop_list:\n",
    "            if Akey == i:\n",
    "                pass\n",
    "            else:\n",
    "                con = Akey + '_' + i\n",
    "                if con in Dis.keys():\n",
    "                    mig_ind = int(math.ceil(Dis[con][1]*alleles[i]['S'][0]))\n",
    "                    locus_B_keep = (sample_population_A(Avalue['B'], Avalue['S'][0] - mig_ind))\n",
    "                    locus_B_rep = [random.choice(alleles[i]['B']) for _ in range(mig_ind)]\n",
    "                    Avalue['B'] = locus_B_keep + locus_B_rep\n",
    "        return Avalue['B']\n",
    "    else:\n",
    "        Avalue['B'] = sample_population_B(Avalue['B'], Avalue['S'][0])\n",
    "        return Avalue['B']\n",
    "\n",
    "\n",
    "# From list containing alleles, calculate the frequency of 'A' or 'B' allele. \n",
    "def allele_freq(locus):\n",
    "    p = sum(1*i.isupper() for i in locus)/float(len(locus))\n",
    "    return p\n",
    "\n",
    "# Function for logistic population growth. Takes current population size (from alleles dictionary) as input and return new population\n",
    "# size. \n",
    "def pop_growth(r, Akey, Avalue, alleles):\n",
    "    size = Avalue['S'][0] # Retrieve size of population. 'Akey' allows indexing of alleles dictionary in cline function\n",
    "    R = r - (0.01*size) # Calculate modified growth rate. Modifier constant currently needs to be changed manually based on desired carrying capacity\n",
    "    new_size = [int(math.ceil(R*size))] # Calculate new population size\n",
    "    return new_size # Update population size in alleles dictionary\n",
    "\n",
    "# Simple bottleneck function. Uses desired bottleneck proportion and returns an integer of number of alleles to sample based on population size.\n",
    "# Only used when creating populations\n",
    "def bottle(bot, Akey, Avalue):\n",
    "    return int(math.ceil(bot*Avalue['S'][0]))\n",
    "\n",
    "# Create new population as empty list and add to 'pops' dictionary. Also create two lists of alleles\n",
    "# sampled from pool of alleles from population that generated the new one. Alleles added to 'alleles'\n",
    "# dictionary\n",
    "def create_population(p, Akey, Avalue, pops, alleles, bot): #'Akey' and 'Avalue' arguments local variables defined in 'cline' function\n",
    "    if not alleles['1']['A']: #If there are no alleles for first population, pass. Only valid for first iteration when the populations have yet to be initialized\n",
    "        #print 'There are no populations from which to sample!!'\n",
    "        pass\n",
    "    else:\n",
    "        prob_list = (['1'] * int(10*p) ) + (['0'] * int(round(10*(1-p)))) #List with 0's and 1's based on argument 'p'\n",
    "        create = [random.choice(prob_list) for _ in range(1)] #Randomly select an element from 'prob_list'\n",
    "        if create[0] == '1': #If a '1' is sampled, create population\n",
    "            global pop_counter #global variable that tracks the number of populations created\n",
    "            pop_counter += 1 #Increment 'pop_counter' by 1 if population is being created. \n",
    "            #Add two lists to 'alleles' dictionary ('A' and 'B'). Naming: 'Pop.number_Population that created the new one'\n",
    "            alleles['{0}.{1}'.format(pop_counter,Akey)] = {'A':sample_population_A(alleles[Akey].items()[0][1], bottle(bot, Akey, Avalue)),'B':sample_population_B(alleles[Akey].items()[2][1], bottle(bot, Akey, Avalue)), 'S':[bottle(bot, Akey, Avalue)]}\n",
    "            pops['{0}.{1}'.format(pop_counter,Akey)] = [] #Empty list for new population. Naming same as alleles.\n",
    "            \n",
    "# Given the frequencies of 'A' and 'B' alleles, return the frequency of the 'acyanogenic' phenotype (i.e. recessive\n",
    "# at either the A locus, B locus, or both) \n",
    "def phenotype(pA, pB):\n",
    "    qA = 1-pA\n",
    "    qB = 1-pB\n",
    "    mut= qA**2 + qB**2 - (qA**2 * qB**2)\n",
    "    WT = 1-mut\n",
    "    return mut # Frequency of acyanogenic phenotype\n",
    "\n",
    "# Cline function. Every generation, 'N' alleles are sampled for pool of alleles sampled the previous generation.\n",
    "# Ever generation, every population has some probability (p) of generating a new population, with alleles\n",
    "# sampled from the population that created it.\n",
    "def cline(locus_A,locus_B, steps, N, p, pops, alleles, bot):\n",
    "        for i in range(steps):\n",
    "            Dis = {'{0}_{1}'.format(key1,key2):[abs(len(key2.split('.')) - len(key1.split('.')))] for key1,key2 in itertools.permutations(alleles.iterkeys(),2)}\n",
    "            pop_list = alleles.keys()\n",
    "            migration_rate(Dis)\n",
    "            for Akey, Avalue in alleles.items():\n",
    "                if Akey in pops.keys():\n",
    "                    if 'A' and 'B' in Avalue.keys():\n",
    "                        if not Avalue['A'] and not Avalue['B']: \n",
    "                            #If allele lists are empty, sample from list of initial allele frequencies. Only used for first generation\n",
    "                            Avalue['S'] = [N]\n",
    "                            Avalue['A'] = (sample_population_A(locus_A, N))\n",
    "                            Avalue['B'] = (sample_population_B(locus_B, N))\n",
    "                        else:\n",
    "                            #If allele lists are not empty, sample from previously sampled set of alleles. \n",
    "                            Avalue['S'] = pop_growth(r, Akey, Avalue, alleles)\n",
    "                            Avalue['A'] = (migrate_A(Akey, Avalue, Dis, alleles, pop_list))\n",
    "                            Avalue['B'] = (migrate_B(Akey, Avalue, Dis, alleles, pop_list))\n",
    "                    create_population(p, Akey, Avalue, pops, alleles, bot) #Create population. Alleles will be sampled (see above). Population is currently empty list\n",
    "            for Pkey in pops.keys():\n",
    "                #Calculate allele and phetype frequencies for every population, including newly created ones. \n",
    "                pA = allele_freq(alleles[Pkey].items()[0][1]) \n",
    "                pB = allele_freq(alleles[Pkey].items()[2][1])\n",
    "                pops[Pkey].append([alleles[Pkey].items()[1][1][0], i, pA, pB, phenotype(pA, pB)])\n",
    "        #return pops\n",
    "\n",
    "        \n",
    "# Using the functions defined above, 'simulate' performs 'sims' iterations of the cline function -- simulating the effects \n",
    "# of drift in a stepping stone model -- each time storing the results.\n",
    "def simulate(pA, pB, steps, N, sims):\n",
    "    qA = 1-pA # Frequency of 'a' allele\n",
    "    qB = 1-pB\n",
    "    # Make the two lists based on the allele frequency to represent the initial population\n",
    "    locus_A = (['A'] * int(N*pA) ) + (['a'] * int(round(N*qA)) ) # [A,A,A,A,a,a,a,a,....]\n",
    "    locus_B = (['B'] * int(N*pB) ) + (['b'] * int(round(N*qB)) ) \n",
    "    ####### sims simulations #####################\n",
    "    # We will simulate 'steps' iterations of resampling this population to simulate drift\n",
    "    # We will then repeat that simulation of 'steps' iterations 1000 times to get a mean\n",
    "    ##############################################\n",
    "    for s in range(sims):\n",
    "        pops = OrderedDict({'1':[]}) # Re-initialize dictionary to store populations\n",
    "        alleles = OrderedDict({'1':{'A':[],'B':[],'S':[]}}) # Re-initialize dictionary to store allele lists\n",
    "        global pop_counter # Reset population counter\n",
    "        pop_counter = 1\n",
    "        # reset the population for each iteration. I don't actually think this is necessary\n",
    "        locus_A = (['A'] * int(N*pA) ) + (['a'] * int(round(N*qA)) )  # Re-initialize initial allele lists.\n",
    "        locus_B = (['B'] * int(N*pB) ) + (['b'] * int(round(N*qB)) ) \n",
    "        cline(locus_A,locus_B, steps, N, p, pops, alleles, bot) # Run cline function\n",
    "        global sim\n",
    "        sim[s] = pops # Append results to global 'sim' dictionary\n",
    "        \n"
   ]
  },
  {
   "cell_type": "code",
   "execution_count": 36,
   "metadata": {
    "collapsed": false
   },
   "outputs": [
    {
     "data": {
      "text/plain": [
       "{0: OrderedDict([('1',\n",
       "               [[100, 0, 0.46, 0.58, 0.41656176000000006],\n",
       "                [100, 1, 0.39, 0.6, 0.472564],\n",
       "                [100, 2, 0.45, 0.48, 0.49110400000000004],\n",
       "                [100, 3, 0.4, 0.45, 0.5536000000000001],\n",
       "                [100, 4, 0.37, 0.42, 0.59978284],\n",
       "                [100, 5, 0.53, 0.4, 0.5013759999999999],\n",
       "                [100, 6, 0.45, 0.31, 0.63457975],\n",
       "                [100, 7, 0.5, 0.36, 0.5571999999999999],\n",
       "                [100, 8, 0.55, 0.37, 0.5190277499999999],\n",
       "                [100, 9, 0.61, 0.28, 0.59165136]]),\n",
       "              ('2.1',\n",
       "               [[10, 2, 0.5, 0.5, 0.4375],\n",
       "                [19,\n",
       "                 3,\n",
       "                 0.631578947368421,\n",
       "                 0.631578947368421,\n",
       "                 0.2530444057366043],\n",
       "                [35,\n",
       "                 4,\n",
       "                 0.5428571428571428,\n",
       "                 0.4857142857142857,\n",
       "                 0.4181964181591004],\n",
       "                [58,\n",
       "                 5,\n",
       "                 0.5862068965517241,\n",
       "                 0.6206896551724138,\n",
       "                 0.29046588272553625],\n",
       "                [83,\n",
       "                 6,\n",
       "                 0.4578313253012048,\n",
       "                 0.3614457831325301,\n",
       "                 0.5818410853599308],\n",
       "                [98,\n",
       "                 7,\n",
       "                 0.6224489795918368,\n",
       "                 0.29591836734693877,\n",
       "                 0.5676118633583362],\n",
       "                [100, 8, 0.65, 0.31, 0.5402777499999999],\n",
       "                [100, 9, 0.65, 0.24, 0.6293439999999999]]),\n",
       "              ('3.2.1',\n",
       "               [[4, 4, 0.5, 1.0, 0.25],\n",
       "                [8, 5, 0.5, 0.75, 0.296875],\n",
       "                [16, 6, 0.4375, 0.375, 0.58343505859375],\n",
       "                [30, 7, 0.7, 0.26666666666666666, 0.579377777777778],\n",
       "                [51,\n",
       "                 8,\n",
       "                 0.7254901960784313,\n",
       "                 0.35294117647058826,\n",
       "                 0.4624904714582759],\n",
       "                [76,\n",
       "                 9,\n",
       "                 0.7763157894736842,\n",
       "                 0.35526315789473684,\n",
       "                 0.444921548282702]]),\n",
       "              ('4.1',\n",
       "               [[10, 6, 0.6, 0.6, 0.29440000000000005],\n",
       "                [19,\n",
       "                 7,\n",
       "                 0.5789473684210527,\n",
       "                 0.47368421052631576,\n",
       "                 0.4051841222826713],\n",
       "                [35, 8, 0.4, 0.37142857142857144, 0.6128653061224489],\n",
       "                [58,\n",
       "                 9,\n",
       "                 0.41379310344827586,\n",
       "                 0.5344827586206896,\n",
       "                 0.48587619347897104]]),\n",
       "              ('5.4.1',\n",
       "               [[4, 8, 0.5, 0.5, 0.4375],\n",
       "                [8, 9, 0.375, 0.625, 0.476318359375]])])}"
      ]
     },
     "execution_count": 36,
     "metadata": {},
     "output_type": "execute_result"
    }
   ],
   "source": [
    "N = 100 # Starting population size (i.e. sample 10 alleles)\n",
    "pA = 0.5 # Initial frequency of 'A' allele\n",
    "pB = 0.5 # Initial frequency of 'B' allele\n",
    "qA = 1 - pA # 'a' allele\n",
    "qB = 1 - pB # 'b' allele\n",
    "steps = 10 # Number of generations\n",
    "sims = 1 # Number of simulations\n",
    "bot = 0.1 # Bottleneck proportion\n",
    "pop_counter = 1 # Count of number of populations being created. Modified by 'create_population'. Used in naming populations\n",
    "p = 0.1 # Probability of creating a population. \n",
    "r = 2 # Growth rate\n",
    "sim = {} # Global dictionary used for storing results of each iteration\n",
    "simulate(pA, pB, steps, N, sims) # Simulate function. \n",
    "sim"
   ]
  },
  {
   "cell_type": "code",
   "execution_count": 93,
   "metadata": {
    "collapsed": false
   },
   "outputs": [
    {
     "name": "stdout",
     "output_type": "stream",
     "text": [
      "Once deleted, variables cannot be recovered. Proceed (y/[n])? y\n"
     ]
    }
   ],
   "source": [
    "%reset"
   ]
  },
  {
   "cell_type": "code",
   "execution_count": 28,
   "metadata": {
    "collapsed": false
   },
   "outputs": [],
   "source": [
    "pops = OrderedDict({'1':[]}) # Re-initialize dictionary to store populations\n",
    "alleles = OrderedDict({'1':{'A':[],'B':[],'S':[]}}) # Re-initialize dictionary to store allele lists\n",
    "N = 10 # Starting population size (i.e. sample 10 alleles)\n",
    "pA = 0.5 # Initial frequency of 'A' allele\n",
    "pB = 0.5 # Initial frequency of 'B' allele\n",
    "qA = 1 - pA # 'a' allele\n",
    "qB = 1 - pB # 'b' allele\n",
    "steps = 5 # Number of generations\n",
    "sims = 2 # Number of simulations\n",
    "bot = int(round(N*0.1))\n",
    "pop_counter = 1 # Count of number of populations being created. Modified by 'create_population'. Used in naming populations\n",
    "p = 0.3 # Probability of creating a population. \n",
    "locus_A = (['A'] * int(N*pA) ) + (['a'] * int(round(N*qA)) ) # [A,A,A,A,a,a,a,a,....]\n",
    "locus_B = (['B'] * int(N*pB) ) + (['b'] * int(round(N*qB)) )\n",
    "r = 2.0"
   ]
  },
  {
   "cell_type": "code",
   "execution_count": 29,
   "metadata": {
    "collapsed": false,
    "scrolled": true
   },
   "outputs": [],
   "source": [
    "cline(locus_A,locus_B, steps, N, p, pops, alleles, bot)"
   ]
  },
  {
   "cell_type": "code",
   "execution_count": 31,
   "metadata": {
    "collapsed": false
   },
   "outputs": [
    {
     "name": "stdout",
     "output_type": "stream",
     "text": [
      "1 [[10, 0, 0.7, 0.6, 0.23560000000000006], [19, 1, 0.7368421052631579, 0.631578947368421, 0.19558628310095844], [35, 2, 0.6857142857142857, 0.7142857142857143, 0.1723448563098709], [58, 3, 0.5862068965517241, 0.6896551724137931, 0.25104732065473273], [83, 4, 0.6626506024096386, 0.5301204819277109, 0.3094648249355471]]\n",
      "2.1 [[10, 0, 0.7, 0.4, 0.4176], [19, 1, 0.5789473684210527, 0.5263157894736842, 0.3618833495752795], [35, 2, 0.7142857142857143, 0.6285714285714286, 0.20832986255726782], [58, 3, 0.6724137931034483, 0.8103448275862069, 0.13942186698073328], [83, 4, 0.7469879518072289, 0.6867469879518072, 0.15586090793224652]]\n",
      "3.1 [[19, 1, 0.7368421052631579, 0.42105263157894735, 0.381220217769968], [35, 2, 0.7142857142857143, 0.45714285714285713, 0.35226988754685556], [58, 3, 0.6379310344827587, 0.39655172413793105, 0.44750592409523227], [83, 4, 0.5662650602409639, 0.40963855421686746, 0.47108571329356547]]\n",
      "4.2.1 [[19, 1, 0.6842105263157895, 0.6842105263157895, 0.18950130830794729], [35, 2, 0.7714285714285715, 0.5714285714285714, 0.22632236568096628], [58, 3, 0.8103448275862069, 0.5172413793103449, 0.2606421634399906], [83, 4, 0.7590361445783133, 0.39759036144578314, 0.39988983175363485]]\n",
      "5.4.2.1 [[35, 2, 0.8, 0.5428571428571428, 0.24062040816326533], [58, 3, 0.8620689655172413, 0.3620689655172414, 0.41823864913662334], [83, 4, 0.8192771084337349, 0.3855421686746988, 0.3978878435248478]]\n",
      "6.3.1 [[58, 3, 0.603448275862069, 0.29310344827586204, 0.5783761157163843], [83, 4, 0.6265060240963856, 0.3132530120481928, 0.545329047776469]]\n",
      "7.3.1 [[83, 4, 0.6144578313253012, 0.3253012048192771, 0.5361962973784934]]\n",
      "8.5.4.2.1 [[83, 4, 0.7951807228915663, 0.46987951807228917, 0.31118928543637264]]\n"
     ]
    }
   ],
   "source": [
    "for key, value in alleles.items():\n",
    "    print key, value"
   ]
  },
  {
   "cell_type": "code",
   "execution_count": 197,
   "metadata": {
    "collapsed": false
   },
   "outputs": [],
   "source": [
    "def migration_rate(Dis):\n",
    "    for Dkey, Dvalue in Dis.items():\n",
    "        Mig_prop = 0.1 - 0.025*Dvalue[0]\n",
    "        Dis[Dkey].append(Mig_prop)"
   ]
  },
  {
   "cell_type": "code",
   "execution_count": 15,
   "metadata": {
    "collapsed": false
   },
   "outputs": [],
   "source": [
    "Dis = {'{0}_{1}'.format(key1,key2):[abs(len(key2.split('.')) - len(key1.split('.')))] for key1,key2 in itertools.permutations(alleles.iterkeys(),2)}\n",
    "pop_list = alleles.keys()\n",
    "#migration_rate(Dis)\n",
    "#for Akey, Avalue in alleles.items():\n",
    " #   migrate(Akey, Avalue, Dis, alleles, pop_list)"
   ]
  },
  {
   "cell_type": "code",
   "execution_count": 19,
   "metadata": {
    "collapsed": false
   },
   "outputs": [
    {
     "name": "stdout",
     "output_type": "stream",
     "text": [
      "WTF\n"
     ]
    }
   ],
   "source": [
    "if len(pop_list) == 1:\n",
    "    print pop_list\n",
    "else:\n",
    "    print 'WTF'"
   ]
  },
  {
   "cell_type": "code",
   "execution_count": null,
   "metadata": {
    "collapsed": true
   },
   "outputs": [],
   "source": []
  }
 ],
 "metadata": {
  "anaconda-cloud": {},
  "kernelspec": {
   "display_name": "Python [Root]",
   "language": "python",
   "name": "Python [Root]"
  },
  "language_info": {
   "codemirror_mode": {
    "name": "ipython",
    "version": 2
   },
   "file_extension": ".py",
   "mimetype": "text/x-python",
   "name": "python",
   "nbconvert_exporter": "python",
   "pygments_lexer": "ipython2",
   "version": "2.7.12"
  }
 },
 "nbformat": 4,
 "nbformat_minor": 0
}
