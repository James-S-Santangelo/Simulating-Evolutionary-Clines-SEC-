{
 "cells": [
  {
   "cell_type": "markdown",
   "metadata": {
    "collapsed": false
   },
   "source": [
    "## Simulate non-cyanogenic evolution via drift alone\n",
    "\n",
    "There is a finding that across a cline from less to more urban the frequency of a non-cyanogenic phenotype increases\n",
    "The phenotype is genetically controlled by two loci, both of which have a segregating knock-out allele\n",
    "If any individual is homozygous for either knockout they become non-cyanogenic\n",
    "\n",
    "In this extremely simple simulation I create a 'population' which is represented by 2 lists of alleles (A/a and B/b)\n",
    "To simulate evolution I randomly sample with replacement from the lists to create new list that represent the next generation.\n",
    "\n",
    "By repeating this process with variable starting frequencies, population sizes and numbers of generations (functionally equivalent to steps in a strict stepping stone) we can look at the change in the frequency of cyanogenic and non-cyanogenic phenotypes\n"
   ]
  },
  {
   "cell_type": "code",
   "execution_count": 35,
   "metadata": {
    "collapsed": false
   },
   "outputs": [],
   "source": [
    "import random\n",
    "from collections import OrderedDict\n",
    "\n",
    "def sample_population(locus_A, locus_B, N):\n",
    "    new_locus_A = [random.choice(locus_A) for _ in range(N)]\n",
    "    new_locus_B = [random.choice(locus_B) for _ in range(N)]\n",
    "    return new_locus_A, new_locus_B\n",
    "\n",
    "def allele_freq(locus):\n",
    "    p = sum(1*i.isupper() for i in locus)/float(len(locus))\n",
    "    return p\n",
    "\n",
    "# Given the frequency of A and the frequency of B, return the frequency of the 'acyanogenic' phenotype (i.e. recessive\n",
    "# at either the A locus, B locus, or both) \n",
    "def phenotype(pA, pB):\n",
    "    qA = 1-pA\n",
    "    qB = 1-pB\n",
    "    mut= qA**2 + qB**2 - (qA**2 * qB**2)\n",
    "    WT = 1-mut\n",
    "    return mut\n",
    "\n",
    "# This function returns the proportion of all simulations that resulted in fixation of either phenotype.\n",
    "def prop_fixed(big_dict):\n",
    "    fixedU = 0\n",
    "    fixedD = 0\n",
    "    for s in big_dict[len(big_dict)-1]:\n",
    "        if s[2] == 1.0:  # Index of 2 required to access third item in step_dict list (i.e. phenotype frequency)\n",
    "            fixedU += 1\n",
    "        if s[2] == 0.0:\n",
    "            fixedD += 1\n",
    "    return fixedU/float(sims), fixedD/float(sims)\n",
    "  \n",
    "\n",
    "# Randomly samples N alleles from locus A and locus B, calculates the frequency of both alleles followed by the frequency\n",
    "# of 'acyanogenesis' phenotype and adds this frequency to step_dict list. Repeats process \"step\" times. Note that locus_A\n",
    "# and locus_B are defined in the for loop. Therefore with each generation (i.e. step), loci are sampled from those sampled\n",
    "# in the previous generation \n",
    "def cline(locus_A,locus_B, steps, N):\n",
    "    step_dict = OrderedDict()\n",
    "    for i in range(steps):\n",
    "        #print i,\n",
    "        locus_A, locus_B = (sample_population(locus_A,locus_B, N))\n",
    "        pA, pB = allele_freq(locus_A), allele_freq(locus_B)\n",
    "        #print pA, pB, phenotype(pA, pB)\n",
    "        step_dict[i] = pA, pB, phenotype(pA, pB) # step_dict now contains individual allele frequencies in addition to phenotype frequencies\n",
    "    return step_dict\n",
    "    \n",
    "        "
   ]
  },
  {
   "cell_type": "code",
   "execution_count": 36,
   "metadata": {
    "collapsed": false,
    "scrolled": false
   },
   "outputs": [
    {
     "data": {
      "text/plain": [
       "(0.0, 0.0)"
      ]
     },
     "execution_count": 36,
     "metadata": {},
     "output_type": "execute_result"
    }
   ],
   "source": [
    "# Initiate population with the following allele frequencies\n",
    "pA = 0.5\n",
    "pB = 0.5\n",
    "qA = 1-pA\n",
    "qB = 1-pB\n",
    "\n",
    "# set the population size\n",
    "N = 10\n",
    "# Make the two lists based on the allele frequency to represent the initial population\n",
    "locus_A = (['A'] * int(N*pA) ) + (['a'] * int(round(N*qA)) ) \n",
    "locus_B = (['B'] * int(N*pB) ) + (['b'] * int(round(N*qB)) ) \n",
    "\n",
    "\n",
    "####### sims simulations #####################\n",
    "# We will simulate 'steps' iterations of resampling this population to simulate drift\n",
    "# We will then repeat that simulation of 'steps' iterations 10000 times to get a mean\n",
    "##############################################\n",
    "sims = 10\n",
    "steps = 5\n",
    "#this stores the results of each simulation for analysis\n",
    "big_dict = OrderedDict()\n",
    "for s in range(steps): big_dict[s] = [] # Create as many empty dictionaries as there as steps (i.e. generations)\n",
    "for i in range(sims):\n",
    "    # reset the population for each iteration. I don't actually think this is necessary\n",
    "    locus_A = (['A'] * int(N*pA) ) + (['a'] * int(round(N*qA)) ) \n",
    "    locus_B = (['B'] * int(N*pB) ) + (['b'] * int(round(N*qB)) ) \n",
    "    # This is one simulation \n",
    "    step_dict = cline(locus_A,locus_B, steps, N)\n",
    "    # Store the result of each step in dictionary to allow summary later\n",
    "    for s in step_dict: big_dict[s].append(step_dict[s])  # Append cline results to empty dictionary for each step of cline model\n",
    "prop_fixed(big_dict)   \n",
    "\n",
    "        \n",
    "####\n",
    "# now we have a dict\n",
    "# with steps 1,2,3...25\n",
    "# each step key corresponds to a list"
   ]
  },
  {
   "cell_type": "code",
   "execution_count": 16,
   "metadata": {
    "collapsed": false,
    "scrolled": false
   },
   "outputs": [
    {
     "data": {
      "image/png": "[encoded data removed]",
      "text/plain": [
       "<matplotlib.figure.Figure at 0x10fd2eb90>"
      ]
     },
     "metadata": {},
     "output_type": "display_data"
    }
   ],
   "source": [
    "import matplotlib.pyplot as plt\n",
    "%matplotlib inline  \n",
    "\n",
    "y = [sum(big_dict[s])/sims for s in big_dict.keys()]\n",
    "x = big_dict.keys()\n",
    "\n",
    "plt.plot(x,y)\n",
    "plt.ylabel('Freq of Mut')\n",
    "plt.xlabel('Generations (or steps)')\n",
    "plt.show()"
   ]
  },
  {
   "cell_type": "code",
   "execution_count": 20,
   "metadata": {
    "collapsed": false,
    "scrolled": false
   },
   "outputs": [
    {
     "data": {
      "text/plain": [
       "<function matplotlib.pyplot.show>"
      ]
     },
     "execution_count": 20,
     "metadata": {},
     "output_type": "execute_result"
    },
    {
     "data": {
      "image/png": "[encoded data removed]",
      "text/plain": [
       "<matplotlib.figure.Figure at 0x10fd2e350>"
      ]
     },
     "metadata": {},
     "output_type": "display_data"
    }
   ],
   "source": [
    "plt.figure(1)\n",
    "plt.subplot(111)\n",
    "for n in range(10):\n",
    "    x = big_dict.keys()\n",
    "    y = [big_dict[s][n] for s in big_dict]\n",
    "    plt.plot(x, y, 'b-', alpha=0.1)\n",
    "\n",
    "\n",
    "plt.show"
   ]
  },
  {
   "cell_type": "code",
   "execution_count": 44,
   "metadata": {
    "collapsed": false
   },
   "outputs": [
    {
     "data": {
      "text/plain": [
       "5"
      ]
     },
     "execution_count": 44,
     "metadata": {},
     "output_type": "execute_result"
    }
   ],
   "source": [
    "len(big_dict)"
   ]
  },
  {
   "cell_type": "code",
   "execution_count": 37,
   "metadata": {
    "collapsed": false
   },
   "outputs": [
    {
     "data": {
      "text/plain": [
       "OrderedDict([(0,\n",
       "              [(0.5, 0.7, 0.3175),\n",
       "               (0.6, 0.6, 0.29440000000000005),\n",
       "               (0.4, 0.3, 0.6735999999999999),\n",
       "               (0.4, 0.6, 0.46240000000000003),\n",
       "               (0.2, 0.6, 0.6976000000000001),\n",
       "               (0.6, 0.5, 0.37),\n",
       "               (0.6, 0.8, 0.19360000000000002),\n",
       "               (0.6, 0.3, 0.5715999999999999),\n",
       "               (0.5, 0.5, 0.4375),\n",
       "               (0.6, 0.5, 0.37)]),\n",
       "             (1,\n",
       "              [(0.4, 0.8, 0.3856),\n",
       "               (0.7, 0.4, 0.4176),\n",
       "               (0.3, 0.2, 0.8164),\n",
       "               (0.5, 0.7, 0.3175),\n",
       "               (0.2, 0.5, 0.7300000000000001),\n",
       "               (0.7, 0.4, 0.4176),\n",
       "               (0.6, 0.6, 0.29440000000000005),\n",
       "               (0.5, 0.3, 0.6175),\n",
       "               (0.7, 0.5, 0.3175),\n",
       "               (0.4, 0.8, 0.3856)]),\n",
       "             (2,\n",
       "              [(0.4, 0.7, 0.4176),\n",
       "               (0.7, 0.4, 0.4176),\n",
       "               (0.2, 0.3, 0.8164),\n",
       "               (0.4, 0.8, 0.3856),\n",
       "               (0.0, 0.6, 1.0),\n",
       "               (0.6, 0.4, 0.46240000000000003),\n",
       "               (0.7, 0.6, 0.23560000000000006),\n",
       "               (0.1, 0.4, 0.8783999999999998),\n",
       "               (0.7, 0.5, 0.3175),\n",
       "               (0.3, 0.9, 0.49509999999999993)]),\n",
       "             (3,\n",
       "              [(0.3, 0.5, 0.6175),\n",
       "               (0.7, 0.2, 0.6724000000000002),\n",
       "               (0.1, 0.4, 0.8783999999999998),\n",
       "               (0.3, 0.8, 0.5104),\n",
       "               (0.0, 0.6, 1.0),\n",
       "               (0.8, 0.6, 0.19360000000000002),\n",
       "               (0.6, 0.8, 0.19360000000000002),\n",
       "               (0.1, 0.4, 0.8783999999999998),\n",
       "               (0.5, 0.4, 0.52),\n",
       "               (0.5, 0.9, 0.2575)]),\n",
       "             (4,\n",
       "              [(0.4, 0.4, 0.5904),\n",
       "               (0.5, 0.1, 0.8575),\n",
       "               (0.4, 0.4, 0.5904),\n",
       "               (0.2, 0.9, 0.6436000000000002),\n",
       "               (0.0, 0.6, 1.0),\n",
       "               (1.0, 0.7, 0.09000000000000002),\n",
       "               (0.3, 1.0, 0.48999999999999994),\n",
       "               (0.1, 0.3, 0.9031),\n",
       "               (0.8, 0.1, 0.8176000000000001),\n",
       "               (0.5, 1.0, 0.25)])])"
      ]
     },
     "execution_count": 37,
     "metadata": {},
     "output_type": "execute_result"
    }
   ],
   "source": [
    "big_dict"
   ]
  },
  {
   "cell_type": "code",
   "execution_count": 85,
   "metadata": {
    "collapsed": false
   },
   "outputs": [],
   "source": [
    "def prop_fixed(big_dict):\n",
    "    fixedU = 0\n",
    "    fixedD = 0\n",
    "    for s in big_dict[len(big_dict)-1]:\n",
    "        if s[2] == 1.0:\n",
    "            fixedU += 1\n",
    "        if s[2] == 0.0:\n",
    "            fixedD += 1\n",
    "    return fixedU/float(sims), fixedD/float(sims)"
   ]
  },
  {
   "cell_type": "code",
   "execution_count": 62,
   "metadata": {
    "collapsed": false
   },
   "outputs": [
    {
     "data": {
      "text/plain": [
       "(0.5, 0.1, 0.8575)"
      ]
     },
     "execution_count": 62,
     "metadata": {},
     "output_type": "execute_result"
    }
   ],
   "source": [
    "big_dict[4][1]"
   ]
  },
  {
   "cell_type": "code",
   "execution_count": 86,
   "metadata": {
    "collapsed": false
   },
   "outputs": [
    {
     "data": {
      "text/plain": [
       "(0.1, 0.0)"
      ]
     },
     "execution_count": 86,
     "metadata": {},
     "output_type": "execute_result"
    }
   ],
   "source": [
    "prop_fixed(big_dict)"
   ]
  },
  {
   "cell_type": "code",
   "execution_count": null,
   "metadata": {
    "collapsed": true
   },
   "outputs": [],
   "source": []
  }
 ],
 "metadata": {
  "anaconda-cloud": {},
  "kernelspec": {
   "display_name": "Python [Root]",
   "language": "python",
   "name": "Python [Root]"
  },
  "language_info": {
   "codemirror_mode": {
    "name": "ipython",
    "version": 2
   },
   "file_extension": ".py",
   "mimetype": "text/x-python",
   "name": "python",
   "nbconvert_exporter": "python",
   "pygments_lexer": "ipython2",
   "version": "2.7.12"
  }
 },
 "nbformat": 4,
 "nbformat_minor": 0
}
