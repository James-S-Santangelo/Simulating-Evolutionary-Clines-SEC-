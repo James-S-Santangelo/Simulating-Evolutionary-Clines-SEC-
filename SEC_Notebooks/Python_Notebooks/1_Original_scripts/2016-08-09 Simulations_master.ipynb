{
 "cells": [
  {
   "cell_type": "markdown",
   "metadata": {
    "collapsed": false
   },
   "source": [
    "## Simulate non-cyanogenic evolution via drift alone\n",
    "\n",
    "There is a finding that across a cline from less to more urban the frequency of a non-cyanogenic phenotype increases\n",
    "The phenotype is genetically controlled by two loci, both of which have a segregating knock-out allele\n",
    "If any individual is homozygous for either knockout they become non-cyanogenic\n",
    "\n",
    "In this extremely simple simulation I create a 'population' which is represented by 2 lists of alleles (A/a and B/b)\n",
    "To simulate evolution I randomly sample with replacement from the lists to create new list that represent the next generation.\n",
    "\n",
    "By repeating this process with variable starting frequencies, population sizes and numbers of generations (functionally equivalent to steps in a strict stepping stone) we can look at the change in the frequency of cyanogenic and non-cyanogenic phenotypes\n"
   ]
  },
  {
   "cell_type": "code",
   "execution_count": 6,
   "metadata": {
    "collapsed": false
   },
   "outputs": [],
   "source": [
    "import random\n",
    "from collections import OrderedDict\n",
    "\n",
    "def sample_population(locus_A, locus_B, N):\n",
    "    new_locus_A = [random.choice(locus_A) for _ in range(N)]\n",
    "    new_locus_B = [random.choice(locus_B) for _ in range(N)]\n",
    "    return new_locus_A, new_locus_B\n",
    "\n",
    "def allele_freq(locus):\n",
    "    p = sum(1*i.isupper() for i in locus)/float(len(locus))\n",
    "    return p\n",
    "\n",
    "# Given the frequency of A and the frequency of B, return the frequency of the 'acyanogenic' phenotype (i.e. recessive\n",
    "# at either the A locus, B locus, or both) \n",
    "def phenotype(pA, pB):\n",
    "    qA = 1-pA\n",
    "    qB = 1-pB\n",
    "    mut= qA**2 + qB**2 - (qA**2 * qB**2)\n",
    "    WT = 1-mut\n",
    "    return mut\n",
    "\n",
    "# This function returns the proportion of all simulations that resulted in fixation of either phenotype.\n",
    "def prop_fixed(big_dict,sims):\n",
    "    fixedU = 0\n",
    "    fixedD = 0\n",
    "    for s in big_dict[len(big_dict)-1]:\n",
    "        if s[2] == 1.0:  # Index of 2 required to access third item in step_dict list (i.e. phenotype frequency)\n",
    "            fixedU += 1\n",
    "        if s[2] == 0.0:\n",
    "            fixedD += 1\n",
    "    return fixedU/float(sims), fixedD/float(sims)\n",
    "  \n",
    "\n",
    "# Randomly samples N alleles from locus A and locus B, calculates the frequency of both alleles followed by the frequency\n",
    "# of 'acyanogenesis' phenotype and adds this frequency to step_dict list. Repeats process \"step\" times. Note that locus_A\n",
    "# and locus_B are defined in the for loop. Therefore with each generation (i.e. step), loci are sampled from those sampled\n",
    "# in the previous generation \n",
    "def cline(locus_A,locus_B, steps, N):\n",
    "    step_dict = OrderedDict()\n",
    "    for i in range(steps):\n",
    "        #print i,\n",
    "        locus_A, locus_B = (sample_population(locus_A,locus_B, N))\n",
    "        pA, pB = allele_freq(locus_A), allele_freq(locus_B)\n",
    "        #print pA, pB, phenotype(pA, pB)\n",
    "        step_dict[i] = pA, pB, phenotype(pA, pB) # step_dict now contains individual allele frequencies in addition to phenotype frequencies\n",
    "    return step_dict\n",
    "\n",
    "def simulate(pA, pB, steps, N, sims):\n",
    "    qA = 1-pA\n",
    "    qB = 1-pB\n",
    "    # Make the two lists based on the allele frequency to represent the initial population\n",
    "    locus_A = (['A'] * int(N*pA) ) + (['a'] * int(round(N*qA)) ) \n",
    "    locus_B = (['B'] * int(N*pB) ) + (['b'] * int(round(N*qB)) ) \n",
    "    ####### sims simulations #####################\n",
    "    # We will simulate 'steps' iterations of resampling this population to simulate drift\n",
    "    # We will then repeat that simulation of 'steps' iterations 10000 times to get a mean\n",
    "    ##############################################\n",
    "    #this stores the results of each simulation for analysis\n",
    "    big_dict = OrderedDict()\n",
    "    for s in range(steps): big_dict[s] = [] # Create as many empty dictionaries as there as steps (i.e. generations)\n",
    "    for i in range(sims):\n",
    "        # reset the population for each iteration. I don't actually think this is necessary\n",
    "        locus_A = (['A'] * int(N*pA) ) + (['a'] * int(round(N*qA)) ) \n",
    "        locus_B = (['B'] * int(N*pB) ) + (['b'] * int(round(N*qB)) ) \n",
    "        # This is one simulation \n",
    "        step_dict = cline(locus_A,locus_B, steps, N)\n",
    "        # Store the result of each step in dictionary to allow summary later\n",
    "        for s in step_dict: big_dict[s].append(step_dict[s])  # Append cline results to empty dictionary for each step of cline model\n",
    "    Fixed.append(prop_fixed(big_dict,sims)) \n",
    "    Results.append(big_dict)\n",
    "\n",
    "    \n",
    "    \n",
    "        "
   ]
  },
  {
   "cell_type": "code",
   "execution_count": 7,
   "metadata": {
    "collapsed": false
   },
   "outputs": [],
   "source": [
    "Fixed = []\n",
    "Results = []\n",
    "simulate(0.5,0.5,50,100,10)"
   ]
  },
  {
   "cell_type": "code",
   "execution_count": 64,
   "metadata": {
    "collapsed": false
   },
   "outputs": [
    {
     "name": "stdout",
     "output_type": "stream",
     "text": [
      "Once deleted, variables cannot be recovered. Proceed (y/[n])? y\n"
     ]
    }
   ],
   "source": [
    "%reset"
   ]
  },
  {
   "cell_type": "code",
   "execution_count": 97,
   "metadata": {
    "collapsed": false,
    "scrolled": false
   },
   "outputs": [],
   "source": [
    "N = 10\n",
    "Fixed = []\n",
    "Results = []\n",
    "for i in range(100):\n",
    "    if N >=10 and N < 100:\n",
    "        simulate(0.5,0.5,50,N,10)\n",
    "        N += 10\n",
    "    elif N >= 100 and N < 500:\n",
    "        simulate(0.5,0.5,50,N,10)\n",
    "        N += 100\n",
    "    elif N >= 500 and N < 1000:\n",
    "        simulate(0.5,0.5,50,N,10)\n",
    "        N += 500\n",
    "    elif N >= 1000 and N < 5000:\n",
    "        simulate(0.5,0.5,50,N,10)\n",
    "        N += 1000\n",
    "    elif N == 5000:\n",
    "        break\n",
    "    "
   ]
  },
  {
   "cell_type": "code",
   "execution_count": 45,
   "metadata": {
    "collapsed": false,
    "scrolled": false
   },
   "outputs": [
    {
     "ename": "TypeError",
     "evalue": "unsupported operand type(s) for +: 'int' and 'tuple'",
     "output_type": "error",
     "traceback": [
      "\u001b[0;31m---------------------------------------------------------------------------\u001b[0m",
      "\u001b[0;31mTypeError\u001b[0m                                 Traceback (most recent call last)",
      "\u001b[0;32m<ipython-input-45-eff0caa0b3a0>\u001b[0m in \u001b[0;36m<module>\u001b[0;34m()\u001b[0m\n\u001b[1;32m      2\u001b[0m \u001b[0mget_ipython\u001b[0m\u001b[0;34m(\u001b[0m\u001b[0;34m)\u001b[0m\u001b[0;34m.\u001b[0m\u001b[0mmagic\u001b[0m\u001b[0;34m(\u001b[0m\u001b[0;34mu'matplotlib inline'\u001b[0m\u001b[0;34m)\u001b[0m\u001b[0;34m\u001b[0m\u001b[0m\n\u001b[1;32m      3\u001b[0m \u001b[0;34m\u001b[0m\u001b[0m\n\u001b[0;32m----> 4\u001b[0;31m \u001b[0my\u001b[0m \u001b[0;34m=\u001b[0m \u001b[0;34m[\u001b[0m\u001b[0msum\u001b[0m\u001b[0;34m(\u001b[0m\u001b[0mbig_dict\u001b[0m\u001b[0;34m[\u001b[0m\u001b[0ms\u001b[0m\u001b[0;34m]\u001b[0m\u001b[0;34m)\u001b[0m\u001b[0;34m/\u001b[0m\u001b[0msims\u001b[0m \u001b[0;32mfor\u001b[0m \u001b[0ms\u001b[0m \u001b[0;32min\u001b[0m \u001b[0mbig_dict\u001b[0m\u001b[0;34m.\u001b[0m\u001b[0mkeys\u001b[0m\u001b[0;34m(\u001b[0m\u001b[0;34m)\u001b[0m\u001b[0;34m]\u001b[0m\u001b[0;34m\u001b[0m\u001b[0m\n\u001b[0m\u001b[1;32m      5\u001b[0m \u001b[0mx\u001b[0m \u001b[0;34m=\u001b[0m \u001b[0mbig_dict\u001b[0m\u001b[0;34m.\u001b[0m\u001b[0mkeys\u001b[0m\u001b[0;34m(\u001b[0m\u001b[0;34m)\u001b[0m\u001b[0;34m\u001b[0m\u001b[0m\n\u001b[1;32m      6\u001b[0m \u001b[0;34m\u001b[0m\u001b[0m\n",
      "\u001b[0;31mTypeError\u001b[0m: unsupported operand type(s) for +: 'int' and 'tuple'"
     ]
    }
   ],
   "source": [
    "import matplotlib.pyplot as plt\n",
    "%matplotlib inline  \n",
    "\n",
    "y = [sum(big_dict[s])/sims for s in big_dict.keys()]\n",
    "x = big_dict.keys()\n",
    "\n",
    "plt.plot(x,y)\n",
    "plt.ylabel('Freq of Mut')\n",
    "plt.xlabel('Generations (or steps)')\n",
    "plt.show()"
   ]
  },
  {
   "cell_type": "code",
   "execution_count": 44,
   "metadata": {
    "collapsed": false,
    "scrolled": false
   },
   "outputs": [
    {
     "data": {
      "text/plain": [
       "<function matplotlib.pyplot.show>"
      ]
     },
     "execution_count": 44,
     "metadata": {},
     "output_type": "execute_result"
    },
    {
     "data": {
      "image/png": "[encoded data removed]",
      "text/plain": [
       "<matplotlib.figure.Figure at 0x10a4359d0>"
      ]
     },
     "metadata": {},
     "output_type": "display_data"
    }
   ],
   "source": [
    "plt.figure(1)\n",
    "plt.subplot(111)\n",
    "for n in range(10):\n",
    "    x = big_dict.keys()\n",
    "    y = [big_dict[s][n] for s in big_dict]\n",
    "    plt.plot(x, y, 'b-', alpha=0.1)\n",
    "\n",
    "\n",
    "plt.show"
   ]
  },
  {
   "cell_type": "code",
   "execution_count": 9,
   "metadata": {
    "collapsed": false
   },
   "outputs": [
    {
     "data": {
      "text/plain": [
       "[(0.1, 0.0)]"
      ]
     },
     "execution_count": 9,
     "metadata": {},
     "output_type": "execute_result"
    }
   ],
   "source": [
    "Fixed"
   ]
  },
  {
   "cell_type": "code",
   "execution_count": 4,
   "metadata": {
    "collapsed": false,
    "scrolled": true
   },
   "outputs": [
    {
     "data": {
      "text/plain": [
       "[(0.1, 0.0)]"
      ]
     },
     "execution_count": 4,
     "metadata": {},
     "output_type": "execute_result"
    }
   ],
   "source": [
    "Fixed"
   ]
  },
  {
   "cell_type": "code",
   "execution_count": 98,
   "metadata": {
    "collapsed": false
   },
   "outputs": [],
   "source": [
    "# Number of sims: constant at 1000\n",
    "# Population size (N): (10,100,10,);(100,500,100);(500,1000,500);(1000,5000,1000);(5000,10000,5000)\n",
    "# Stating allele frequencies: [pA(0.1,0.9,0.1),pB(0.9,0.1,0.1)];[pA(0.1,0.9,0.1),pB(0.1,0.9,0.1)]\n",
    "# Number of generations (steps): (10,100,10,);(100,500,100)\n",
    "\n",
    "# set the population size\n",
    "N = 10\n",
    "Fixed = []\n",
    "Results = []\n",
    "while N >=10 and N <= 100:\n",
    "    # Initiate population with the following allele frequencies\n",
    "    pA = 0.5\n",
    "    pB = 0.5\n",
    "    qA = 1-pA\n",
    "    qB = 1-pB\n",
    "    # Make the two lists based on the allele frequency to represent the initial population\n",
    "    locus_A = (['A'] * int(N*pA) ) + (['a'] * int(round(N*qA)) ) \n",
    "    locus_B = (['B'] * int(N*pB) ) + (['b'] * int(round(N*qB)) ) \n",
    "    ####### sims simulations #####################\n",
    "    # We will simulate 'steps' iterations of resampling this population to simulate drift\n",
    "    # We will then repeat that simulation of 'steps' iterations 10000 times to get a mean\n",
    "    ##############################################\n",
    "    sims = 10\n",
    "    steps = 50\n",
    "    #this stores the results of each simulation for analysis\n",
    "    big_dict = OrderedDict()\n",
    "    for s in range(steps): big_dict[s] = [] # Create as many empty dictionaries as there as steps (i.e. generations)\n",
    "    for i in range(sims):\n",
    "        # reset the population for each iteration. I don't actually think this is necessary\n",
    "        locus_A = (['A'] * int(N*pA) ) + (['a'] * int(round(N*qA)) ) \n",
    "        locus_B = (['B'] * int(N*pB) ) + (['b'] * int(round(N*qB)) ) \n",
    "        # This is one simulation \n",
    "        step_dict = cline(locus_A,locus_B, steps, N)\n",
    "        # Store the result of each step in dictionary to allow summary later\n",
    "        for s in step_dict: big_dict[s].append(step_dict[s])  # Append cline results to empty dictionary for each step of cline model\n",
    "    Fixed.append(prop_fixed(big_dict,sims)) \n",
    "    Results.append(big_dict)\n",
    "    N += 10\n",
    "    \n",
    "        \n",
    "####\n",
    "# now we have a dict\n",
    "# with steps 1,2,3...25\n",
    "# each step key corresponds to a list"
   ]
  },
  {
   "cell_type": "code",
   "execution_count": 5,
   "metadata": {
    "collapsed": false
   },
   "outputs": [
    {
     "ename": "NameError",
     "evalue": "name 'step_dict' is not defined",
     "output_type": "error",
     "traceback": [
      "\u001b[0;31m---------------------------------------------------------------------------\u001b[0m",
      "\u001b[0;31mNameError\u001b[0m                                 Traceback (most recent call last)",
      "\u001b[0;32m<ipython-input-5-605241be9889>\u001b[0m in \u001b[0;36m<module>\u001b[0;34m()\u001b[0m\n\u001b[0;32m----> 1\u001b[0;31m \u001b[0mstep_dict\u001b[0m\u001b[0;34m\u001b[0m\u001b[0m\n\u001b[0m",
      "\u001b[0;31mNameError\u001b[0m: name 'step_dict' is not defined"
     ]
    }
   ],
   "source": [
    "step_dict"
   ]
  },
  {
   "cell_type": "code",
   "execution_count": null,
   "metadata": {
    "collapsed": true
   },
   "outputs": [],
   "source": []
  }
 ],
 "metadata": {
  "anaconda-cloud": {},
  "kernelspec": {
   "display_name": "Python [Root]",
   "language": "python",
   "name": "Python [Root]"
  },
  "language_info": {
   "codemirror_mode": {
    "name": "ipython",
    "version": 2
   },
   "file_extension": ".py",
   "mimetype": "text/x-python",
   "name": "python",
   "nbconvert_exporter": "python",
   "pygments_lexer": "ipython2",
   "version": "2.7.12"
  }
 },
 "nbformat": 4,
 "nbformat_minor": 0
}
