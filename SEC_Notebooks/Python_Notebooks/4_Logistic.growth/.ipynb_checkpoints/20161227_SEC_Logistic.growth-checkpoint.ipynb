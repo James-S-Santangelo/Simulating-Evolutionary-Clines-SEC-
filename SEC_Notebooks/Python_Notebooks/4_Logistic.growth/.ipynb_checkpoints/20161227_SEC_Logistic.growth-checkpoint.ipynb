{
 "cells": [
  {
   "cell_type": "markdown",
   "metadata": {},
   "source": [
    "## Simulate non-cyanogenic evolution via drift alone\n",
    "\n",
    "There is a finding that across a cline from less to more urban the frequency of a non-cyanogenic phenotype increases\n",
    "The phenotype is genetically controlled by two loci, both of which have a segregating knock-out allele\n",
    "If any individual is homozygous for either knockout they become non-cyanogenic\n",
    "\n",
    "In this extremely simple simulation I create a 'population' which is represented by 2 lists of alleles (A/a and B/b)\n",
    "To simulate evolution I randomly sample with replacement from the lists to create new list that represent the next generation.\n",
    "\n",
    "By repeating this process with variable starting frequencies, population sizes and numbers of generations (functionally equivalent to steps in a strict stepping stone) we can look at the change in the frequency of cyanogenic and non-cyanogenic phenotypes"
   ]
  },
  {
   "cell_type": "markdown",
   "metadata": {},
   "source": [
    "## Extension to previous simulations — Spatial structure\n",
    "\n",
    "To build off of the previous single-population stepping stone model, I have added a few functions that allow us to add spatial structure to our simulations, effectively simulating the trajectory of multiple populations simultaneously. Once migration is added, this will be analogous to a metapopulation.\n",
    "\n",
    "#### Major changes to script\n",
    "\n",
    "1. Since there will be multiple populations, they are now stored as entries in a dictionary. Each key in the dictionarry corresponds to a population and the value is a list containing the frequencies of alleles phenotype, updated each generation. \n",
    "2. The alleles that correspond to each population are stored in a separate dictionary with keys matching those from the population dictionary. As such, allele frequencies for populations are calculated by sampling the allele lists in the 'alleles' dictionary with the key matching the population.\n",
    "3. Every generation, each population has some probability (p) of generating a new population with N alleles sampled from the population that created it. This is not the most realistic scenario but can easily be modified later. \n",
    "4. Simulations are now stored separately in a dictionary called 'sim' where each key corresponds to a simulation. \n",
    "5. These changes allow us to model clines in two ways:\n",
    "    - Clines across 'time': looking at phenotype frequencies **within** populations\n",
    "    - Clines across 'space': looking at phenotype frequencies **across** created populations"
   ]
  },
  {
   "cell_type": "markdown",
   "metadata": {},
   "source": [
    "## Extension to previous simulations — Logistic population growth\n",
    "\n",
    "To build off of the simulations that included spatial structure, I have incorporated logistic population growth into the simulations. \n",
    "\n",
    "**Major changes to script**\n",
    "\n",
    "1. Newly created populations form as a bottleneck from the population that created it. The proportion of alleles sampled is some fraction (bot) multiplied by the population size of the source population. \n",
    "2. Every generation, every population grows in size according to an approximate logistic growth curve. The logistic growth function incorporates a fractional constant that, when multiplied by the current population size, modifies the per capita growth rate of the population size. The carrying capacity is thus altered by changing this fractional constant. \n",
    "3. The size of every population as an integer in a list within the alleles dictionary under the key corresponding to the population. This integer is called as needed by the function that require population size as an argument (e.g. 'bottle', 'pop_growth')."
   ]
  },
  {
   "cell_type": "code",
   "execution_count": 29,
   "metadata": {
    "collapsed": false
   },
   "outputs": [],
   "source": [
    "# Modules used throughout script\n",
    "import random\n",
    "from collections import OrderedDict\n",
    "import csv\n",
    "import time\n",
    "from datetime import datetime\n",
    "import os\n",
    "import itertools\n",
    "import math\n",
    "import numpy as np\n",
    "\n",
    "\n",
    "# Randomly sample 'N' alleles from lists containing alleles for locus A \n",
    "def sample_population_A(locus_A, N):\n",
    "    new_locus_A = [random.choice(locus_A) for _ in range(N)]\n",
    "    return new_locus_A\n",
    "\n",
    "# Randomly sample 'N' alleles from lists containing alleles for locus B\n",
    "def sample_population_B(locus_B, N):\n",
    "    new_locus_B = [random.choice(locus_B) for _ in range(N)]\n",
    "    return new_locus_B\n",
    "\n",
    "# From list containing alleles, calculate the frequency of 'A' or 'B' allele. \n",
    "def allele_freq(locus):\n",
    "    p = sum(1*i.isupper() for i in locus)/float(len(locus))\n",
    "    return p\n",
    "\n",
    "# Function for logistic population growth. Takes current population size (from alleles dictionary) as input and return new population\n",
    "# size. \n",
    "def pop_growth(r, Akey, Avalue, alleles):\n",
    "    size = Avalue['S'][0] # Retrieve size of population. 'Akey' allows indexing of alleles dictionary in cline function\n",
    "    R = r - (0.01*size) # Calculate modified growth rate. Modifier constant currently needs to be changed manually based on desired carrying capacity\n",
    "    new_size = [int(math.ceil(R*size))] # Calculate new population size\n",
    "    return new_size # Update population size in alleles dictionary\n",
    "\n",
    "# Simple bottleneck function. Uses desired bottleneck proportion and returns an integer of number of alleles to sample based on population size.\n",
    "# Only used when creating populations\n",
    "def bottle(bot, Akey, Avalue):\n",
    "    return int(math.ceil(bot*Avalue['S'][0]))\n",
    "\n",
    "# Create new population as empty list and add to 'pops' dictionary. Also create two lists of alleles\n",
    "# sampled from pool of alleles from population that generated the new one. Alleles added to 'alleles'\n",
    "# dictionary\n",
    "def create_population(p, Akey, Avalue, pops, alleles, bot): #'Akey' and 'Avalue' arguments local variables defined in 'cline' function\n",
    "    if not alleles['1']['A']: #If there are no alleles for first population, pass. Only valid for first iteration when the populations have yet to be initialized\n",
    "        #print 'There are no populations from which to sample!!'\n",
    "        pass\n",
    "    else:\n",
    "        prob_list = (['1'] * int(10*p) ) + (['0'] * int(round(10*(1-p)))) #List with 0's and 1's based on argument 'p'\n",
    "        create = [random.choice(prob_list) for _ in range(1)] #Randomly select an element from 'prob_list'\n",
    "        if create[0] == '1': #If a '1' is sampled, create population\n",
    "            global pop_counter #global variable that tracks the number of populations created\n",
    "            pop_counter += 1 #Increment 'pop_counter' by 1 if population is being created. \n",
    "            #Add two lists to 'alleles' dictionary ('A' and 'B'). Naming: 'Pop.number_Population that created the new one'\n",
    "            alleles['{0}.{1}'.format(pop_counter,Akey)] = {'A':sample_population_A(alleles[Akey].items()[0][1], bottle(bot, Akey, Avalue)),'B':sample_population_B(alleles[Akey].items()[2][1], bottle(bot, Akey, Avalue)), 'S':[bottle(bot, Akey, Avalue)]}\n",
    "            pops['{0}.{1}'.format(pop_counter,Akey)] = [] #Empty list for new population. Naming same as alleles.\n",
    "            \n",
    "# Given the frequencies of 'A' and 'B' alleles, return the frequency of the 'acyanogenic' phenotype (i.e. recessive\n",
    "# at either the A locus, B locus, or both) \n",
    "def phenotype(pA, pB):\n",
    "    qA = 1-pA\n",
    "    qB = 1-pB\n",
    "    mut= qA**2 + qB**2 - (qA**2 * qB**2)\n",
    "    WT = 1-mut\n",
    "    return mut # Frequency of acyanogenic phenotype\n",
    "\n",
    "# Cline function. Every generation, 'N' alleles are sampled for pool of alleles sampled the previous generation.\n",
    "# Ever generation, every population has some probability (p) of generating a new population, with alleles\n",
    "# sampled from the population that created it.\n",
    "def cline(locus_A,locus_B, steps, N, p, pops, alleles, bot):\n",
    "        for i in range(steps):\n",
    "            for Akey, Avalue in alleles.items():\n",
    "                if Akey in pops.keys():\n",
    "                    if 'A' and 'B' in Avalue.keys():\n",
    "                        if not Avalue['A'] and not Avalue['B']: \n",
    "                            #If allele lists are empty, sample from list of initial allele frequencies. Only used for first generation\n",
    "                            Avalue['S'] = [N]\n",
    "                            Avalue['A'] = (sample_population_A(locus_A, N))\n",
    "                            Avalue['B'] = (sample_population_B(locus_B, N))\n",
    "                        else:\n",
    "                            #If allele lists are not empty, sample from previously sampled set of alleles. \n",
    "                            Avalue['S'] = pop_growth(r, Akey, Avalue, alleles)\n",
    "                            Avalue['A'] = (sample_population_A(Avalue['A'], Avalue['S'][0]))\n",
    "                            Avalue['B'] = (sample_population_B(Avalue['B'], Avalue['S'][0]))\n",
    "                    create_population(p, Akey, Avalue, pops, alleles, bot) #Create population. Alleles will be sampled (see above). Population is currently empty list\n",
    "            for Pkey in pops.keys():\n",
    "                #Calculate allele and phetype frequencies for every population, including newly created ones. \n",
    "                pA = allele_freq(alleles[Pkey].items()[0][1]) \n",
    "                pB = allele_freq(alleles[Pkey].items()[2][1])\n",
    "                pops[Pkey].append([alleles[Pkey].items()[1][1][0], i, pA, pB, phenotype(pA, pB)])\n",
    "        return pops\n",
    "\n",
    "        \n",
    "# Using the functions defined above, 'simulate' performs 'sims' iterations of the cline function -- simulating the effects \n",
    "# of drift in a stepping stone model -- each time storing the results.\n",
    "def simulate(pA, pB, steps, N, sims):\n",
    "    qA = 1-pA # Frequency of 'a' allele\n",
    "    qB = 1-pB\n",
    "    # Make the two lists based on the allele frequency to represent the initial population\n",
    "    locus_A = (['A'] * int(N*pA) ) + (['a'] * int(round(N*qA)) ) # [A,A,A,A,a,a,a,a,....]\n",
    "    locus_B = (['B'] * int(N*pB) ) + (['b'] * int(round(N*qB)) ) \n",
    "    ####### sims simulations #####################\n",
    "    # We will simulate 'steps' iterations of resampling this population to simulate drift\n",
    "    # We will then repeat that simulation of 'steps' iterations 1000 times to get a mean\n",
    "    ##############################################\n",
    "    for s in range(sims):\n",
    "        pops = OrderedDict({'1':[]}) # Re-initialize dictionary to store populations\n",
    "        alleles = OrderedDict({'1':{'A':[],'B':[],'S':[]}}) # Re-initialize dictionary to store allele lists\n",
    "        global pop_counter # Reset population counter\n",
    "        pop_counter = 1\n",
    "        # reset the population for each iteration. I don't actually think this is necessary\n",
    "        locus_A = (['A'] * int(N*pA) ) + (['a'] * int(round(N*qA)) )  # Re-initialize initial allele lists.\n",
    "        locus_B = (['B'] * int(N*pB) ) + (['b'] * int(round(N*qB)) ) \n",
    "        cline(locus_A,locus_B, steps, N, p, pops, alleles, bot) # Run cline function\n",
    "        global sim\n",
    "        sim[s] = pops # Append results to global 'sim' dictionary\n",
    "        \n"
   ]
  },
  {
   "cell_type": "code",
   "execution_count": 47,
   "metadata": {
    "collapsed": true
   },
   "outputs": [
    {
     "data": {
      "text/plain": [
       "{0: OrderedDict([('1',\n",
       "               [[100, 0, 0.45, 0.59, 0.41974975000000003],\n",
       "                [100, 1, 0.49, 0.53, 0.42354390999999997],\n",
       "                [100, 2, 0.47, 0.54, 0.43306156],\n",
       "                [100, 3, 0.52, 0.55, 0.386244],\n",
       "                [100, 4, 0.54, 0.57, 0.35737515999999997]]),\n",
       "              ('2.1',\n",
       "               [[10, 0, 0.6, 0.6, 0.29440000000000005],\n",
       "                [19,\n",
       "                 1,\n",
       "                 0.631578947368421,\n",
       "                 0.5263157894736842,\n",
       "                 0.3296552359174654],\n",
       "                [35,\n",
       "                 2,\n",
       "                 0.6857142857142857,\n",
       "                 0.5142857142857142,\n",
       "                 0.3113909204498126],\n",
       "                [58,\n",
       "                 3,\n",
       "                 0.7586206896551724,\n",
       "                 0.46551724137931033,\n",
       "                 0.32729141600014716],\n",
       "                [83,\n",
       "                 4,\n",
       "                 0.7590361445783133,\n",
       "                 0.40963855421686746,\n",
       "                 0.3863535121691305]]),\n",
       "              ('3.2.1',\n",
       "               [[2, 1, 0.5, 1.0, 0.25],\n",
       "                [4, 2, 0.5, 1.0, 0.25],\n",
       "                [8, 3, 0.5, 1.0, 0.25],\n",
       "                [16, 4, 0.6875, 1.0, 0.09765625]]),\n",
       "              ('4.1',\n",
       "               [[10, 2, 0.5, 0.5, 0.4375],\n",
       "                [19,\n",
       "                 3,\n",
       "                 0.42105263157894735,\n",
       "                 0.5263157894736842,\n",
       "                 0.48435018147497333],\n",
       "                [35,\n",
       "                 4,\n",
       "                 0.5428571428571428,\n",
       "                 0.4857142857142857,\n",
       "                 0.4181964181591004]]),\n",
       "              ('5.1',\n",
       "               [[10, 3, 0.7, 0.4, 0.4176],\n",
       "                [19,\n",
       "                 4,\n",
       "                 0.7368421052631579,\n",
       "                 0.42105263157894735,\n",
       "                 0.381220217769968]]),\n",
       "              ('6.2.1', [[9, 4, 0.6666666666666666, 0.0, 1.0]]),\n",
       "              ('7.3.2.1', [[2, 4, 0.5, 1.0, 0.25]])])}"
      ]
     },
     "execution_count": 47,
     "metadata": {},
     "output_type": "execute_result"
    }
   ],
   "source": [
    "N = 100 # Starting population size (i.e. sample 10 alleles)\n",
    "pA = 0.5 # Initial frequency of 'A' allele\n",
    "pB = 0.5 # Initial frequency of 'B' allele\n",
    "qA = 1 - pA # 'a' allele\n",
    "qB = 1 - pB # 'b' allele\n",
    "steps = 5 # Number of generations\n",
    "sims = 1 # Number of simulations\n",
    "bot = 0.1 # Bottleneck proportion\n",
    "pop_counter = 1 # Count of number of populations being created. Modified by 'create_population'. Used in naming populations\n",
    "p = 0.5 # Probability of creating a population. \n",
    "r = 2 # Growth rate\n",
    "sim = {} # Global dictionary used for storing results of each iteration\n",
    "simulate(pA, pB, steps, N, sims) # Simulate function. \n",
    "sim"
   ]
  },
  {
   "cell_type": "code",
   "execution_count": 524,
   "metadata": {
    "collapsed": false
   },
   "outputs": [
    {
     "name": "stdout",
     "output_type": "stream",
     "text": [
      "Once deleted, variables cannot be recovered. Proceed (y/[n])? y\n"
     ]
    }
   ],
   "source": [
    "%reset"
   ]
  },
  {
   "cell_type": "code",
   "execution_count": 564,
   "metadata": {
    "collapsed": false
   },
   "outputs": [],
   "source": [
    "pops = OrderedDict({'1':[]}) # Re-initialize dictionary to store populations\n",
    "alleles = OrderedDict({'1':{'A':[],'B':[],'S':[]}}) # Re-initialize dictionary to store allele lists\n",
    "N = 10 # Starting population size (i.e. sample 10 alleles)\n",
    "pA = 0.5 # Initial frequency of 'A' allele\n",
    "pB = 0.5 # Initial frequency of 'B' allele\n",
    "qA = 1 - pA # 'a' allele\n",
    "qB = 1 - pB # 'b' allele\n",
    "steps = 5 # Number of generations\n",
    "sims = 2 # Number of simulations\n",
    "bot = int(round(N*0.1))\n",
    "pop_counter = 1 # Count of number of populations being created. Modified by 'create_population'. Used in naming populations\n",
    "p = 1 # Probability of creating a population. \n",
    "locus_A = (['A'] * int(N*pA) ) + (['a'] * int(round(N*qA)) ) # [A,A,A,A,a,a,a,a,....]\n",
    "locus_B = (['B'] * int(N*pB) ) + (['b'] * int(round(N*qB)) )\n",
    "r = 1.5"
   ]
  },
  {
   "cell_type": "code",
   "execution_count": 565,
   "metadata": {
    "collapsed": true
   },
   "outputs": [
    {
     "ename": "ZeroDivisionError",
     "evalue": "float division by zero",
     "output_type": "error",
     "traceback": [
      "\u001b[0;31m---------------------------------------------------------------------------\u001b[0m",
      "\u001b[0;31mZeroDivisionError\u001b[0m                         Traceback (most recent call last)",
      "\u001b[0;32m<ipython-input-565-c899fbfb5289>\u001b[0m in \u001b[0;36m<module>\u001b[0;34m()\u001b[0m\n\u001b[0;32m----> 1\u001b[0;31m \u001b[0mcline\u001b[0m\u001b[0;34m(\u001b[0m\u001b[0mlocus_A\u001b[0m\u001b[0;34m,\u001b[0m\u001b[0mlocus_B\u001b[0m\u001b[0;34m,\u001b[0m \u001b[0msteps\u001b[0m\u001b[0;34m,\u001b[0m \u001b[0mN\u001b[0m\u001b[0;34m,\u001b[0m \u001b[0mp\u001b[0m\u001b[0;34m,\u001b[0m \u001b[0mpops\u001b[0m\u001b[0;34m,\u001b[0m \u001b[0malleles\u001b[0m\u001b[0;34m,\u001b[0m \u001b[0mbot\u001b[0m\u001b[0;34m)\u001b[0m\u001b[0;34m\u001b[0m\u001b[0m\n\u001b[0m",
      "\u001b[0;32m<ipython-input-560-ba895bfe0055>\u001b[0m in \u001b[0;36mcline\u001b[0;34m(locus_A, locus_B, steps, N, p, pops, alleles, bot)\u001b[0m\n\u001b[1;32m     79\u001b[0m             \u001b[0;32mfor\u001b[0m \u001b[0mPkey\u001b[0m \u001b[0;32min\u001b[0m \u001b[0mpops\u001b[0m\u001b[0;34m.\u001b[0m\u001b[0mkeys\u001b[0m\u001b[0;34m(\u001b[0m\u001b[0;34m)\u001b[0m\u001b[0;34m:\u001b[0m\u001b[0;34m\u001b[0m\u001b[0m\n\u001b[1;32m     80\u001b[0m                 \u001b[0;31m#Calculate allele and phetype frequencies for every population, including newly created ones.\u001b[0m\u001b[0;34m\u001b[0m\u001b[0;34m\u001b[0m\u001b[0m\n\u001b[0;32m---> 81\u001b[0;31m                 \u001b[0mpA\u001b[0m \u001b[0;34m=\u001b[0m \u001b[0mallele_freq\u001b[0m\u001b[0;34m(\u001b[0m\u001b[0malleles\u001b[0m\u001b[0;34m[\u001b[0m\u001b[0mPkey\u001b[0m\u001b[0;34m]\u001b[0m\u001b[0;34m.\u001b[0m\u001b[0mitems\u001b[0m\u001b[0;34m(\u001b[0m\u001b[0;34m)\u001b[0m\u001b[0;34m[\u001b[0m\u001b[0;36m0\u001b[0m\u001b[0;34m]\u001b[0m\u001b[0;34m[\u001b[0m\u001b[0;36m1\u001b[0m\u001b[0;34m]\u001b[0m\u001b[0;34m)\u001b[0m\u001b[0;34m\u001b[0m\u001b[0m\n\u001b[0m\u001b[1;32m     82\u001b[0m                 \u001b[0mpB\u001b[0m \u001b[0;34m=\u001b[0m \u001b[0mallele_freq\u001b[0m\u001b[0;34m(\u001b[0m\u001b[0malleles\u001b[0m\u001b[0;34m[\u001b[0m\u001b[0mPkey\u001b[0m\u001b[0;34m]\u001b[0m\u001b[0;34m.\u001b[0m\u001b[0mitems\u001b[0m\u001b[0;34m(\u001b[0m\u001b[0;34m)\u001b[0m\u001b[0;34m[\u001b[0m\u001b[0;36m2\u001b[0m\u001b[0;34m]\u001b[0m\u001b[0;34m[\u001b[0m\u001b[0;36m1\u001b[0m\u001b[0;34m]\u001b[0m\u001b[0;34m)\u001b[0m\u001b[0;34m\u001b[0m\u001b[0m\n\u001b[1;32m     83\u001b[0m                 \u001b[0mpops\u001b[0m\u001b[0;34m[\u001b[0m\u001b[0mPkey\u001b[0m\u001b[0;34m]\u001b[0m\u001b[0;34m.\u001b[0m\u001b[0mappend\u001b[0m\u001b[0;34m(\u001b[0m\u001b[0;34m[\u001b[0m\u001b[0malleles\u001b[0m\u001b[0;34m[\u001b[0m\u001b[0mPkey\u001b[0m\u001b[0;34m]\u001b[0m\u001b[0;34m.\u001b[0m\u001b[0mitems\u001b[0m\u001b[0;34m(\u001b[0m\u001b[0;34m)\u001b[0m\u001b[0;34m[\u001b[0m\u001b[0;36m1\u001b[0m\u001b[0;34m]\u001b[0m\u001b[0;34m[\u001b[0m\u001b[0;36m1\u001b[0m\u001b[0;34m]\u001b[0m\u001b[0;34m[\u001b[0m\u001b[0;36m0\u001b[0m\u001b[0;34m]\u001b[0m\u001b[0;34m,\u001b[0m \u001b[0mi\u001b[0m\u001b[0;34m,\u001b[0m \u001b[0mpA\u001b[0m\u001b[0;34m,\u001b[0m \u001b[0mpB\u001b[0m\u001b[0;34m,\u001b[0m \u001b[0mphenotype\u001b[0m\u001b[0;34m(\u001b[0m\u001b[0mpA\u001b[0m\u001b[0;34m,\u001b[0m \u001b[0mpB\u001b[0m\u001b[0;34m)\u001b[0m\u001b[0;34m]\u001b[0m\u001b[0;34m)\u001b[0m\u001b[0;34m\u001b[0m\u001b[0m\n",
      "\u001b[0;32m<ipython-input-560-ba895bfe0055>\u001b[0m in \u001b[0;36mallele_freq\u001b[0;34m(locus)\u001b[0m\n\u001b[1;32m     21\u001b[0m \u001b[0;31m# From list containing alleles, calculate the frequency of 'A' or 'B' allele.\u001b[0m\u001b[0;34m\u001b[0m\u001b[0;34m\u001b[0m\u001b[0m\n\u001b[1;32m     22\u001b[0m \u001b[0;32mdef\u001b[0m \u001b[0mallele_freq\u001b[0m\u001b[0;34m(\u001b[0m\u001b[0mlocus\u001b[0m\u001b[0;34m)\u001b[0m\u001b[0;34m:\u001b[0m\u001b[0;34m\u001b[0m\u001b[0m\n\u001b[0;32m---> 23\u001b[0;31m     \u001b[0mp\u001b[0m \u001b[0;34m=\u001b[0m \u001b[0msum\u001b[0m\u001b[0;34m(\u001b[0m\u001b[0;36m1\u001b[0m\u001b[0;34m*\u001b[0m\u001b[0mi\u001b[0m\u001b[0;34m.\u001b[0m\u001b[0misupper\u001b[0m\u001b[0;34m(\u001b[0m\u001b[0;34m)\u001b[0m \u001b[0;32mfor\u001b[0m \u001b[0mi\u001b[0m \u001b[0;32min\u001b[0m \u001b[0mlocus\u001b[0m\u001b[0;34m)\u001b[0m\u001b[0;34m/\u001b[0m\u001b[0mfloat\u001b[0m\u001b[0;34m(\u001b[0m\u001b[0mlen\u001b[0m\u001b[0;34m(\u001b[0m\u001b[0mlocus\u001b[0m\u001b[0;34m)\u001b[0m\u001b[0;34m)\u001b[0m\u001b[0;34m\u001b[0m\u001b[0m\n\u001b[0m\u001b[1;32m     24\u001b[0m     \u001b[0;32mreturn\u001b[0m \u001b[0mp\u001b[0m\u001b[0;34m\u001b[0m\u001b[0m\n\u001b[1;32m     25\u001b[0m \u001b[0;34m\u001b[0m\u001b[0m\n",
      "\u001b[0;31mZeroDivisionError\u001b[0m: float division by zero"
     ]
    }
   ],
   "source": [
    "cline(locus_A,locus_B, steps, N, p, pops, alleles, bot)"
   ]
  },
  {
   "cell_type": "code",
   "execution_count": 590,
   "metadata": {
    "collapsed": false
   },
   "outputs": [],
   "source": [
    "pA = 0.5 # Initial frequency of 'A' allele\n",
    "pB = 0.5 # Initial frequency of 'B' allele\n",
    "qA = 1 - pA # 'a' allele\n",
    "qB = 1 - pB\n",
    "pop_counter = 1\n",
    "N = 10\n",
    "locus_A = (['A'] * int(N*pA) ) + (['a'] * int(round(N*qA)) ) # [A,A,A,A,a,a,a,a,....]\n",
    "locus_B = (['B'] * int(N*pB) ) + (['b'] * int(round(N*qB)) ) \n",
    "r = 2\n",
    "bot = 0.1\n",
    "pops = OrderedDict({'1':[]}) # Re-initialize dictionary to store populations\n",
    "alleles = OrderedDict({'1':{'A':sample_population_A(locus_A, N),'B':sample_population_B(locus_B, N),'S':[N]}})"
   ]
  },
  {
   "cell_type": "code",
   "execution_count": 1,
   "metadata": {
    "collapsed": false
   },
   "outputs": [
    {
     "ename": "NameError",
     "evalue": "name 'alleles' is not defined",
     "output_type": "error",
     "traceback": [
      "\u001b[0;31m---------------------------------------------------------------------------\u001b[0m",
      "\u001b[0;31mNameError\u001b[0m                                 Traceback (most recent call last)",
      "\u001b[0;32m<ipython-input-1-4e0d4906e2f8>\u001b[0m in \u001b[0;36m<module>\u001b[0;34m()\u001b[0m\n\u001b[1;32m      1\u001b[0m \u001b[0;32mfor\u001b[0m \u001b[0mi\u001b[0m \u001b[0;32min\u001b[0m \u001b[0mrange\u001b[0m \u001b[0;34m(\u001b[0m\u001b[0;36m2\u001b[0m\u001b[0;34m)\u001b[0m\u001b[0;34m:\u001b[0m\u001b[0;34m\u001b[0m\u001b[0m\n\u001b[0;32m----> 2\u001b[0;31m     \u001b[0;32mfor\u001b[0m \u001b[0mAkey\u001b[0m\u001b[0;34m,\u001b[0m \u001b[0mAvalue\u001b[0m \u001b[0;32min\u001b[0m \u001b[0malleles\u001b[0m\u001b[0;34m.\u001b[0m\u001b[0mitems\u001b[0m\u001b[0;34m(\u001b[0m\u001b[0;34m)\u001b[0m\u001b[0;34m:\u001b[0m\u001b[0;34m\u001b[0m\u001b[0m\n\u001b[0m\u001b[1;32m      3\u001b[0m         \u001b[0;32mif\u001b[0m \u001b[0mAkey\u001b[0m \u001b[0;32min\u001b[0m \u001b[0mpops\u001b[0m\u001b[0;34m.\u001b[0m\u001b[0mkeys\u001b[0m\u001b[0;34m(\u001b[0m\u001b[0;34m)\u001b[0m\u001b[0;34m:\u001b[0m\u001b[0;34m\u001b[0m\u001b[0m\n\u001b[1;32m      4\u001b[0m             \u001b[0mAvalue\u001b[0m\u001b[0;34m[\u001b[0m\u001b[0;34m'S'\u001b[0m\u001b[0;34m]\u001b[0m \u001b[0;34m=\u001b[0m \u001b[0mpop_growth\u001b[0m\u001b[0;34m(\u001b[0m\u001b[0mr\u001b[0m\u001b[0;34m,\u001b[0m \u001b[0mAkey\u001b[0m\u001b[0;34m,\u001b[0m \u001b[0mAvalue\u001b[0m\u001b[0;34m,\u001b[0m \u001b[0malleles\u001b[0m\u001b[0;34m)\u001b[0m\u001b[0;34m\u001b[0m\u001b[0m\n\u001b[1;32m      5\u001b[0m             \u001b[0mAvalue\u001b[0m\u001b[0;34m[\u001b[0m\u001b[0;34m'A'\u001b[0m\u001b[0;34m]\u001b[0m \u001b[0;34m=\u001b[0m \u001b[0;34m(\u001b[0m\u001b[0msample_population_A\u001b[0m\u001b[0;34m(\u001b[0m\u001b[0mAvalue\u001b[0m\u001b[0;34m[\u001b[0m\u001b[0;34m'A'\u001b[0m\u001b[0;34m]\u001b[0m\u001b[0;34m,\u001b[0m \u001b[0mAvalue\u001b[0m\u001b[0;34m[\u001b[0m\u001b[0;34m'S'\u001b[0m\u001b[0;34m]\u001b[0m\u001b[0;34m[\u001b[0m\u001b[0;36m0\u001b[0m\u001b[0;34m]\u001b[0m\u001b[0;34m)\u001b[0m\u001b[0;34m)\u001b[0m\u001b[0;34m\u001b[0m\u001b[0m\n",
      "\u001b[0;31mNameError\u001b[0m: name 'alleles' is not defined"
     ]
    }
   ],
   "source": [
    "for i in range (2):\n",
    "    for Akey, Avalue in alleles.items():\n",
    "        if Akey in pops.keys():\n",
    "            Avalue['S'] = pop_growth(r, Akey, Avalue, alleles)\n",
    "            Avalue['A'] = (sample_population_A(Avalue['A'], Avalue['S'][0]))\n",
    "            Avalue['B'] = (sample_population_B(Avalue['B'], Avalue['S'][0]))\n",
    "            create_population(p, Akey, Avalue, pops, alleles, bot)"
   ]
  },
  {
   "cell_type": "code",
   "execution_count": 37,
   "metadata": {
    "collapsed": false
   },
   "outputs": [],
   "source": [
    "COLS, ROWS = 5,5 \n",
    "rows = [i for i in range(ROWS)]\n",
    "columns = [i for i in range(COLS)]\n",
    "test = {c : {i:0 for i in rows} for c in columns}"
   ]
  },
  {
   "cell_type": "code",
   "execution_count": 38,
   "metadata": {
    "collapsed": false
   },
   "outputs": [
    {
     "data": {
      "text/plain": [
       "{0: {0: 0, 1: 0, 2: 0, 3: 0, 4: 0},\n",
       " 1: {0: 0, 1: 0, 2: 0, 3: 0, 4: 0},\n",
       " 2: {0: 0, 1: 0, 2: 0, 3: 0, 4: 0},\n",
       " 3: {0: 0, 1: 0, 2: 0, 3: 0, 4: 0},\n",
       " 4: {0: 0, 1: 0, 2: 0, 3: 0, 4: 0}}"
      ]
     },
     "execution_count": 38,
     "metadata": {},
     "output_type": "execute_result"
    }
   ],
   "source": [
    "test"
   ]
  },
  {
   "cell_type": "code",
   "execution_count": null,
   "metadata": {
    "collapsed": true
   },
   "outputs": [],
   "source": []
  }
 ],
 "metadata": {
  "anaconda-cloud": {},
  "kernelspec": {
   "display_name": "Python [Root]",
   "language": "python",
   "name": "Python [Root]"
  },
  "language_info": {
   "codemirror_mode": {
    "name": "ipython",
    "version": 2
   },
   "file_extension": ".py",
   "mimetype": "text/x-python",
   "name": "python",
   "nbconvert_exporter": "python",
   "pygments_lexer": "ipython2",
   "version": "2.7.12"
  }
 },
 "nbformat": 4,
 "nbformat_minor": 0
}
