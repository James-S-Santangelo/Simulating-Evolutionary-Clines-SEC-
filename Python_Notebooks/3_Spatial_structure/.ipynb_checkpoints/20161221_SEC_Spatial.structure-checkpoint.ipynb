{
 "cells": [
  {
   "cell_type": "markdown",
   "metadata": {},
   "source": [
    "## Simulate non-cyanogenic evolution via drift alone\n",
    "\n",
    "There is a finding that across a cline from less to more urban the frequency of a non-cyanogenic phenotype increases\n",
    "The phenotype is genetically controlled by two loci, both of which have a segregating knock-out allele\n",
    "If any individual is homozygous for either knockout they become non-cyanogenic\n",
    "\n",
    "In this extremely simple simulation I create a 'population' which is represented by 2 lists of alleles (A/a and B/b)\n",
    "To simulate evolution I randomly sample with replacement from the lists to create new list that represent the next generation.\n",
    "\n",
    "By repeating this process with variable starting frequencies, population sizes and numbers of generations (functionally equivalent to steps in a strict stepping stone) we can look at the change in the frequency of cyanogenic and non-cyanogenic phenotypes"
   ]
  },
  {
   "cell_type": "markdown",
   "metadata": {},
   "source": [
    "## Extension to previous simulations — Spatial structure\n",
    "\n",
    "To build off of the previous single-population stepping stone model, I have added a few functions that allow us to add spatial structure to our simulations, effectively simulating the trajectory of multiple populations simultaneously. Once migration is added, this will be analogous to a metapopulation.\n",
    "\n",
    "#### Major changes to script\n",
    "\n",
    "1. Since there will be multiple populations, they are now stored as entries in a dictionary. Each key in the dictionarry corresponds to a population and the value is a list containing the frequencies of alleles phenotype, updated each generation. \n",
    "2. The alleles that correspond to each population are stored in a separate dictionary with keys matching those from the population dictionary. As such, allele frequencies for populations are calculated by sampling the allele lists in the 'alleles' dictionary with the key matching the population.\n",
    "3. Every generation, each population has some probability (p) of generating a new population with N alleles sampled from the population that created it. This is not the most realistic scenario but can easily be modified later. \n",
    "4. Simulations are now stored separately in a dictionary called 'sim' where each key corresponds to a simulation. \n",
    "5. These changes allow us to model clines in two ways:\n",
    "    - Clines across 'time': looking at phenotype frequencies **within** populations\n",
    "    - Clines across 'space': looking at phenotype frequencies **across** created populations"
   ]
  },
  {
   "cell_type": "code",
   "execution_count": 593,
   "metadata": {
    "collapsed": false
   },
   "outputs": [],
   "source": [
    "# Modules used throughout script\n",
    "import random\n",
    "from collections import OrderedDict\n",
    "import csv\n",
    "import time\n",
    "from datetime import datetime\n",
    "import os\n",
    "import itertools\n",
    "import math\n",
    "\n",
    "\n",
    "# Randomly sample 'N' alleles from lists containing alleles for locus A \n",
    "def sample_population_A(locus_A, N):\n",
    "    new_locus_A = [random.choice(locus_A) for _ in range(N)]\n",
    "    return new_locus_A\n",
    "\n",
    "# Randomly sample 'N' alleles from lists containing alleles for locus B\n",
    "def sample_population_B(locus_B, N):\n",
    "    new_locus_B = [random.choice(locus_B) for _ in range(N)]\n",
    "    return new_locus_B\n",
    "\n",
    "# From list containing alleles, calculate the frequency of 'A' or 'B' allele. \n",
    "def allele_freq(locus):\n",
    "    p = sum(1*i.isupper() for i in locus)/float(len(locus))\n",
    "    return p\n",
    "\n",
    "# Function for logistic population growth. Takes current population size (from alleles dictionary) as input and return new population\n",
    "# size. \n",
    "def pop_growth(r, Akey, Avalue, alleles):\n",
    "    size = Avalue['S'][0] # Retrieve size of population. 'Akey' allows indexing of alleles dictionary in cline function\n",
    "    R = r - (0.01*size) # Calculate modified growth rate. Modifier constant currently needs to be changed manually based on desired carrying capacity\n",
    "    new_size = [int(math.ceil(R*size))] # Calculate new population size\n",
    "    return new_size # Update population size in alleles dictionary\n",
    "\n",
    "# Simple bottleneck function. Uses desired bottleneck proportion and returns an integer of number of alleles to sample based on population size.\n",
    "# Only used when creating populations\n",
    "def bottle(bot, Akey, Avalue):\n",
    "    return int(math.ceil(bot*Avalue['S'][0]))\n",
    "\n",
    "# Create new population as empty list and add to 'pops' dictionary. Also create two lists of alleles\n",
    "# sampled from pool of alleles from population that generated the new one. Alleles added to 'alleles'\n",
    "# dictionary\n",
    "def create_population(p, Akey, Avalue, pops, alleles, bot): #'Akey' and 'Avalue' arguments local variables defined in 'cline' function\n",
    "    if not alleles['1']['A']: #If there are no alleles for first population, pass. Only valid for first iteration when the populations have yet to be initialized\n",
    "        #print 'There are no populations from which to sample!!'\n",
    "        pass\n",
    "    else:\n",
    "        prob_list = (['1'] * int(10*p) ) + (['0'] * int(round(10*(1-p)))) #List with 0's and 1's based on argument 'p'\n",
    "        create = [random.choice(prob_list) for _ in range(1)] #Randomly select an element from 'prob_list'\n",
    "        if create[0] == '1': #If a '1' is sampled, create population\n",
    "            global pop_counter #global variable that tracks the number of populations created\n",
    "            pop_counter += 1 #Increment 'pop_counter' by 1 if population is being created. \n",
    "            #Add two lists to 'alleles' dictionary ('A' and 'B'). Naming: 'Pop.number_Population that created the new one'\n",
    "            alleles['{0}_{1}'.format(pop_counter,Akey)] = {'A':sample_population_A(alleles[Akey].items()[0][1], bottle(bot, Akey, Avalue)),'B':sample_population_B(alleles[Akey].items()[2][1], bottle(bot, Akey, Avalue)), 'S':[bottle(bot, Akey, Avalue)]}\n",
    "            pops['{0}_{1}'.format(pop_counter,Akey)] = [] #Empty list for new population. Naming same as alleles.\n",
    "            \n",
    "# Given the frequencies of 'A' and 'B' alleles, return the frequency of the 'acyanogenic' phenotype (i.e. recessive\n",
    "# at either the A locus, B locus, or both) \n",
    "def phenotype(pA, pB):\n",
    "    qA = 1-pA\n",
    "    qB = 1-pB\n",
    "    mut= qA**2 + qB**2 - (qA**2 * qB**2)\n",
    "    WT = 1-mut\n",
    "    return mut # Frequency of acyanogenic phenotype\n",
    "\n",
    "# Cline function. Every generation, 'N' alleles are sampled for pool of alleles sampled the previous generation.\n",
    "# Ever generation, every population has some probability (p) of generating a new population, with alleles\n",
    "# sampled from the population that created it.\n",
    "def cline(locus_A,locus_B, steps, N, p, pops, alleles, bot):\n",
    "        for i in range(steps):\n",
    "            for Akey, Avalue in alleles.items():\n",
    "                if Akey in pops.keys():\n",
    "                    if 'A' and 'B' in Avalue.keys():\n",
    "                        if not Avalue['A'] and not Avalue['B']: \n",
    "                            #If allele lists are empty, sample from list of initial allele frequencies. Only used for first generation\n",
    "                            Avalue['S'] = [N]\n",
    "                            Avalue['A'] = (sample_population_A(locus_A, N))\n",
    "                            Avalue['B'] = (sample_population_B(locus_B, N))\n",
    "                        else:\n",
    "                            #If allele lists are not empty, sample from previously sampled set of alleles. \n",
    "                            Avalue['S'] = pop_growth(r, Akey, Avalue, alleles)\n",
    "                            Avalue['A'] = (sample_population_A(Avalue['A'], Avalue['S'][0]))\n",
    "                            Avalue['B'] = (sample_population_B(Avalue['B'], Avalue['S'][0]))\n",
    "                    create_population(p, Akey, Avalue, pops, alleles, bot) #Create population. Alleles will be sampled (see above). Population is currently empty list\n",
    "            for Pkey in pops.keys():\n",
    "                #Calculate allele and phetype frequencies for every population, including newly created ones. \n",
    "                pA = allele_freq(alleles[Pkey].items()[0][1]) \n",
    "                pB = allele_freq(alleles[Pkey].items()[2][1])\n",
    "                pops[Pkey].append([alleles[Pkey].items()[1][1][0], i, pA, pB, phenotype(pA, pB)])\n",
    "        return pops\n",
    "\n",
    "        \n",
    "# Using the functions defined above, 'simulate' performs 'sims' iterations of the cline function -- simulating the effects \n",
    "# of drift in a stepping stone model -- each time storing the results.\n",
    "def simulate(pA, pB, steps, N, sims):\n",
    "    qA = 1-pA # Frequency of 'a' allele\n",
    "    qB = 1-pB\n",
    "    # Make the two lists based on the allele frequency to represent the initial population\n",
    "    locus_A = (['A'] * int(N*pA) ) + (['a'] * int(round(N*qA)) ) # [A,A,A,A,a,a,a,a,....]\n",
    "    locus_B = (['B'] * int(N*pB) ) + (['b'] * int(round(N*qB)) ) \n",
    "    ####### sims simulations #####################\n",
    "    # We will simulate 'steps' iterations of resampling this population to simulate drift\n",
    "    # We will then repeat that simulation of 'steps' iterations 1000 times to get a mean\n",
    "    ##############################################\n",
    "    for s in range(sims):\n",
    "        pops = OrderedDict({'1':[]}) # Re-initialize dictionary to store populations\n",
    "        alleles = OrderedDict({'1':{'A':[],'B':[],'S':[]}}) # Re-initialize dictionary to store allele lists\n",
    "        global pop_counter # Reset population counter\n",
    "        pop_counter = 1\n",
    "        # reset the population for each iteration. I don't actually think this is necessary\n",
    "        locus_A = (['A'] * int(N*pA) ) + (['a'] * int(round(N*qA)) )  # Re-initialize initial allele lists.\n",
    "        locus_B = (['B'] * int(N*pB) ) + (['b'] * int(round(N*qB)) ) \n",
    "        cline(locus_A,locus_B, steps, N, p, pops, alleles, bot) # Run cline function\n",
    "        global sim\n",
    "        sim[s] = pops # Append results to global 'sim' dictionary\n",
    "        \n"
   ]
  },
  {
   "cell_type": "code",
   "execution_count": 594,
   "metadata": {
    "collapsed": false
   },
   "outputs": [
    {
     "data": {
      "text/plain": [
       "{0: OrderedDict([('1',\n",
       "               [[100, 0, 0.56, 0.48, 0.41165056],\n",
       "                [100, 1, 0.54, 0.44, 0.45884224],\n",
       "                [100, 2, 0.57, 0.44, 0.44051536],\n",
       "                [100, 3, 0.54, 0.49, 0.41666284],\n",
       "                [100, 4, 0.56, 0.52, 0.37939455999999994]]),\n",
       "              ('2_1',\n",
       "               [[10, 0, 0.5, 0.3, 0.6175],\n",
       "                [19,\n",
       "                 1,\n",
       "                 0.3157894736842105,\n",
       "                 0.2631578947368421,\n",
       "                 0.7569079426953447],\n",
       "                [35,\n",
       "                 2,\n",
       "                 0.3142857142857143,\n",
       "                 0.34285714285714286,\n",
       "                 0.6989894210745523],\n",
       "                [58,\n",
       "                 3,\n",
       "                 0.20689655172413793,\n",
       "                 0.25862068965517243,\n",
       "                 0.8329235480664687],\n",
       "                [83,\n",
       "                 4,\n",
       "                 0.26506024096385544,\n",
       "                 0.30120481927710846,\n",
       "                 0.7646945832744483]]),\n",
       "              ('3_1',\n",
       "               [[10, 1, 0.3, 0.5, 0.6175],\n",
       "                [19,\n",
       "                 2,\n",
       "                 0.3684210526315789,\n",
       "                 0.5263157894736842,\n",
       "                 0.533766622416955],\n",
       "                [35,\n",
       "                 3,\n",
       "                 0.34285714285714286,\n",
       "                 0.6857142857142857,\n",
       "                 0.4879573511037068],\n",
       "                [58,\n",
       "                 4,\n",
       "                 0.29310344827586204,\n",
       "                 0.7586206896551724,\n",
       "                 0.5288520404195787]]),\n",
       "              ('4_2_1',\n",
       "               [[2, 1, 0.0, 0.5, 1.0],\n",
       "                [4, 2, 0.0, 0.75, 1.0],\n",
       "                [8, 3, 0.0, 0.875, 1.0],\n",
       "                [16, 4, 0.0, 0.9375, 1.0]]),\n",
       "              ('5_1',\n",
       "               [[10, 2, 0.6, 0.3, 0.5715999999999999],\n",
       "                [19,\n",
       "                 3,\n",
       "                 0.47368421052631576,\n",
       "                 0.2631578947368421,\n",
       "                 0.6695467346014841],\n",
       "                [35,\n",
       "                 4,\n",
       "                 0.34285714285714286,\n",
       "                 0.17142857142857143,\n",
       "                 0.8218982090795501]]),\n",
       "              ('6_2_1',\n",
       "               [[4, 2, 0.5, 0.25, 0.671875],\n",
       "                [8, 3, 0.5, 0.5, 0.4375],\n",
       "                [16, 4, 0.6875, 0.375, 0.45013427734375]]),\n",
       "              ('7_3_1',\n",
       "               [[2, 2, 1.0, 0.5, 0.25],\n",
       "                [4, 3, 1.0, 0.25, 0.5625],\n",
       "                [8, 4, 1.0, 0.125, 0.765625]]),\n",
       "              ('8_4_2_1',\n",
       "               [[1, 2, 0.0, 1.0, 1.0],\n",
       "                [2, 3, 0.0, 1.0, 1.0],\n",
       "                [4, 4, 0.0, 1.0, 1.0]]),\n",
       "              ('9_1',\n",
       "               [[10, 3, 0.6, 0.5, 0.37],\n",
       "                [19,\n",
       "                 4,\n",
       "                 0.7368421052631579,\n",
       "                 0.7894736842105263,\n",
       "                 0.11050406304432901]]),\n",
       "              ('10_2_1',\n",
       "               [[6,\n",
       "                 3,\n",
       "                 0.16666666666666666,\n",
       "                 0.16666666666666666,\n",
       "                 0.9066358024691359],\n",
       "                [12,\n",
       "                 4,\n",
       "                 0.3333333333333333,\n",
       "                 0.16666666666666666,\n",
       "                 0.830246913580247]]),\n",
       "              ('11_3_1',\n",
       "               [[4, 3, 0.5, 0.5, 0.4375], [8, 4, 0.25, 0.75, 0.58984375]]),\n",
       "              ('12_4_2_1', [[1, 3, 0.0, 1.0, 1.0], [2, 4, 0.0, 1.0, 1.0]]),\n",
       "              ('13_5_1', [[2, 3, 1.0, 0.5, 0.25], [4, 4, 1.0, 0.25, 0.5625]]),\n",
       "              ('14_6_2_1', [[1, 3, 1.0, 0.0, 1.0], [2, 4, 1.0, 0.0, 1.0]]),\n",
       "              ('15_7_3_1', [[1, 3, 1.0, 0.0, 1.0], [2, 4, 1.0, 0.0, 1.0]]),\n",
       "              ('16_8_4_2_1', [[1, 3, 0.0, 1.0, 1.0], [2, 4, 0.0, 1.0, 1.0]]),\n",
       "              ('17_1', [[10, 4, 0.9, 0.4, 0.3664]]),\n",
       "              ('18_2_1',\n",
       "               [[9,\n",
       "                 4,\n",
       "                 0.1111111111111111,\n",
       "                 0.4444444444444444,\n",
       "                 0.8549001676573693]]),\n",
       "              ('19_3_1', [[6, 4, 0.0, 0.6666666666666666, 1.0]]),\n",
       "              ('20_4_2_1', [[2, 4, 0.0, 1.0, 1.0]]),\n",
       "              ('21_5_1', [[4, 4, 0.25, 0.5, 0.671875]]),\n",
       "              ('22_6_2_1', [[2, 4, 0.5, 0.0, 1.0]]),\n",
       "              ('23_7_3_1', [[1, 4, 1.0, 1.0, 0.0]]),\n",
       "              ('24_8_4_2_1', [[1, 4, 0.0, 1.0, 1.0]]),\n",
       "              ('25_9_1', [[2, 4, 1.0, 0.5, 0.25]]),\n",
       "              ('26_10_2_1', [[2, 4, 0.0, 0.0, 1.0]]),\n",
       "              ('27_11_3_1', [[1, 4, 0.0, 1.0, 1.0]]),\n",
       "              ('28_12_4_2_1', [[1, 4, 0.0, 1.0, 1.0]]),\n",
       "              ('29_13_5_1', [[1, 4, 1.0, 1.0, 0.0]]),\n",
       "              ('30_14_6_2_1', [[1, 4, 1.0, 0.0, 1.0]]),\n",
       "              ('31_15_7_3_1', [[1, 4, 1.0, 0.0, 1.0]]),\n",
       "              ('32_16_8_4_2_1', [[1, 4, 0.0, 1.0, 1.0]])]),\n",
       " 1: OrderedDict([('1',\n",
       "               [[100, 0, 0.49, 0.51, 0.43774999],\n",
       "                [100, 1, 0.49, 0.55, 0.40992975],\n",
       "                [100, 2, 0.56, 0.51, 0.38721664],\n",
       "                [100, 3, 0.53, 0.49, 0.42354390999999997],\n",
       "                [100, 4, 0.58, 0.5, 0.3823]]),\n",
       "              ('2_1',\n",
       "               [[10, 0, 0.5, 0.5, 0.4375],\n",
       "                [19,\n",
       "                 1,\n",
       "                 0.5789473684210527,\n",
       "                 0.5263157894736842,\n",
       "                 0.3618833495752795],\n",
       "                [35, 2, 0.6, 0.5714285714285714, 0.31428571428571433],\n",
       "                [58,\n",
       "                 3,\n",
       "                 0.5172413793103449,\n",
       "                 0.5862068965517241,\n",
       "                 0.36437568660829295],\n",
       "                [83,\n",
       "                 4,\n",
       "                 0.5301204819277109,\n",
       "                 0.6024096385542169,\n",
       "                 0.3439633062450734]]),\n",
       "              ('3_1',\n",
       "               [[10, 1, 0.3, 0.6, 0.5715999999999999],\n",
       "                [19,\n",
       "                 2,\n",
       "                 0.3157894736842105,\n",
       "                 0.6842105263157895,\n",
       "                 0.5211823113696181],\n",
       "                [35, 3, 0.4, 0.6, 0.46240000000000003],\n",
       "                [58,\n",
       "                 4,\n",
       "                 0.41379310344827586,\n",
       "                 0.5517241379310345,\n",
       "                 0.4755351833288326]]),\n",
       "              ('4_2_1',\n",
       "               [[2, 1, 0.5, 1.0, 0.25],\n",
       "                [4, 2, 1.0, 1.0, 0.0],\n",
       "                [8, 3, 1.0, 1.0, 0.0],\n",
       "                [16, 4, 1.0, 1.0, 0.0]]),\n",
       "              ('5_1',\n",
       "               [[10, 2, 0.6, 0.6, 0.29440000000000005],\n",
       "                [19,\n",
       "                 3,\n",
       "                 0.631578947368421,\n",
       "                 0.5789473684210527,\n",
       "                 0.2889557323838829],\n",
       "                [35,\n",
       "                 4,\n",
       "                 0.7714285714285715,\n",
       "                 0.5714285714285714,\n",
       "                 0.22632236568096628]]),\n",
       "              ('6_2_1',\n",
       "               [[4, 2, 0.25, 0.75, 0.58984375],\n",
       "                [8, 3, 0.125, 0.75, 0.7802734375],\n",
       "                [16, 4, 0.125, 0.625, 0.798583984375]]),\n",
       "              ('7_3_1',\n",
       "               [[2, 2, 0.5, 0.5, 0.4375],\n",
       "                [4, 3, 0.75, 0.5, 0.296875],\n",
       "                [8, 4, 0.75, 0.75, 0.12109375]]),\n",
       "              ('8_4_2_1',\n",
       "               [[1, 2, 1.0, 1.0, 0.0],\n",
       "                [2, 3, 1.0, 1.0, 0.0],\n",
       "                [4, 4, 1.0, 1.0, 0.0]]),\n",
       "              ('9_1',\n",
       "               [[10, 3, 0.4, 0.1, 0.8783999999999998],\n",
       "                [19,\n",
       "                 4,\n",
       "                 0.2631578947368421,\n",
       "                 0.05263157894736842,\n",
       "                 0.9531541347902488]]),\n",
       "              ('10_2_1',\n",
       "               [[6, 3, 0.3333333333333333, 0.5, 0.5833333333333334],\n",
       "                [12, 4, 0.4166666666666667, 0.5, 0.5052083333333333]]),\n",
       "              ('11_3_1',\n",
       "               [[4, 3, 0.5, 0.75, 0.296875], [8, 4, 0.5, 0.625, 0.35546875]]),\n",
       "              ('12_4_2_1', [[1, 3, 1.0, 1.0, 0.0], [2, 4, 1.0, 1.0, 0.0]]),\n",
       "              ('13_5_1', [[2, 3, 1.0, 0.5, 0.25], [4, 4, 1.0, 0.75, 0.0625]]),\n",
       "              ('14_6_2_1', [[1, 3, 0.0, 0.0, 1.0], [2, 4, 0.0, 0.0, 1.0]]),\n",
       "              ('15_7_3_1', [[1, 3, 1.0, 0.0, 1.0], [2, 4, 1.0, 0.0, 1.0]]),\n",
       "              ('16_8_4_2_1', [[1, 3, 1.0, 1.0, 0.0], [2, 4, 1.0, 1.0, 0.0]]),\n",
       "              ('17_1', [[10, 4, 0.5, 0.4, 0.52]]),\n",
       "              ('18_2_1',\n",
       "               [[9,\n",
       "                 4,\n",
       "                 0.4444444444444444,\n",
       "                 0.7777777777777778,\n",
       "                 0.34278311233043746]]),\n",
       "              ('19_3_1',\n",
       "               [[6, 4, 0.3333333333333333, 0.5, 0.5833333333333334]]),\n",
       "              ('20_4_2_1', [[2, 4, 1.0, 1.0, 0.0]]),\n",
       "              ('21_5_1', [[4, 4, 0.75, 0.5, 0.296875]]),\n",
       "              ('22_6_2_1', [[2, 4, 0.0, 1.0, 1.0]]),\n",
       "              ('23_7_3_1', [[1, 4, 1.0, 1.0, 0.0]]),\n",
       "              ('24_8_4_2_1', [[1, 4, 1.0, 1.0, 0.0]]),\n",
       "              ('25_9_1', [[2, 4, 0.0, 0.0, 1.0]]),\n",
       "              ('26_10_2_1', [[2, 4, 1.0, 0.5, 0.25]]),\n",
       "              ('27_11_3_1', [[1, 4, 1.0, 0.0, 1.0]]),\n",
       "              ('28_12_4_2_1', [[1, 4, 1.0, 1.0, 0.0]]),\n",
       "              ('29_13_5_1', [[1, 4, 1.0, 1.0, 0.0]]),\n",
       "              ('30_14_6_2_1', [[1, 4, 0.0, 0.0, 1.0]]),\n",
       "              ('31_15_7_3_1', [[1, 4, 1.0, 0.0, 1.0]]),\n",
       "              ('32_16_8_4_2_1', [[1, 4, 1.0, 1.0, 0.0]])])}"
      ]
     },
     "execution_count": 594,
     "metadata": {},
     "output_type": "execute_result"
    }
   ],
   "source": [
    "N = 100 # Starting population size (i.e. sample 10 alleles)\n",
    "pA = 0.5 # Initial frequency of 'A' allele\n",
    "pB = 0.5 # Initial frequency of 'B' allele\n",
    "qA = 1 - pA # 'a' allele\n",
    "qB = 1 - pB # 'b' allele\n",
    "steps = 5 # Number of generations\n",
    "sims = 2 # Number of simulations\n",
    "bot = 0.1 # Bottleneck proportion\n",
    "pop_counter = 1 # Count of number of populations being created. Modified by 'create_population'. Used in naming populations\n",
    "p = 1 # Probability of creating a population. \n",
    "r = 2 # Growth rate\n",
    "sim = {} # Global dictionary used for storing results of each iteration\n",
    "simulate(pA, pB, steps, N, sims) # Simulate function. \n",
    "sim"
   ]
  },
  {
   "cell_type": "code",
   "execution_count": 524,
   "metadata": {
    "collapsed": false
   },
   "outputs": [
    {
     "name": "stdout",
     "output_type": "stream",
     "text": [
      "Once deleted, variables cannot be recovered. Proceed (y/[n])? y\n"
     ]
    }
   ],
   "source": [
    "%reset"
   ]
  },
  {
   "cell_type": "code",
   "execution_count": 564,
   "metadata": {
    "collapsed": false
   },
   "outputs": [],
   "source": [
    "pops = OrderedDict({'1':[]}) # Re-initialize dictionary to store populations\n",
    "alleles = OrderedDict({'1':{'A':[],'B':[],'S':[]}}) # Re-initialize dictionary to store allele lists\n",
    "N = 10 # Starting population size (i.e. sample 10 alleles)\n",
    "pA = 0.5 # Initial frequency of 'A' allele\n",
    "pB = 0.5 # Initial frequency of 'B' allele\n",
    "qA = 1 - pA # 'a' allele\n",
    "qB = 1 - pB # 'b' allele\n",
    "steps = 5 # Number of generations\n",
    "sims = 2 # Number of simulations\n",
    "bot = int(round(N*0.1))\n",
    "pop_counter = 1 # Count of number of populations being created. Modified by 'create_population'. Used in naming populations\n",
    "p = 1 # Probability of creating a population. \n",
    "locus_A = (['A'] * int(N*pA) ) + (['a'] * int(round(N*qA)) ) # [A,A,A,A,a,a,a,a,....]\n",
    "locus_B = (['B'] * int(N*pB) ) + (['b'] * int(round(N*qB)) )\n",
    "r = 1.5"
   ]
  },
  {
   "cell_type": "code",
   "execution_count": 565,
   "metadata": {
    "collapsed": false
   },
   "outputs": [
    {
     "ename": "ZeroDivisionError",
     "evalue": "float division by zero",
     "output_type": "error",
     "traceback": [
      "\u001b[0;31m---------------------------------------------------------------------------\u001b[0m",
      "\u001b[0;31mZeroDivisionError\u001b[0m                         Traceback (most recent call last)",
      "\u001b[0;32m<ipython-input-565-c899fbfb5289>\u001b[0m in \u001b[0;36m<module>\u001b[0;34m()\u001b[0m\n\u001b[0;32m----> 1\u001b[0;31m \u001b[0mcline\u001b[0m\u001b[0;34m(\u001b[0m\u001b[0mlocus_A\u001b[0m\u001b[0;34m,\u001b[0m\u001b[0mlocus_B\u001b[0m\u001b[0;34m,\u001b[0m \u001b[0msteps\u001b[0m\u001b[0;34m,\u001b[0m \u001b[0mN\u001b[0m\u001b[0;34m,\u001b[0m \u001b[0mp\u001b[0m\u001b[0;34m,\u001b[0m \u001b[0mpops\u001b[0m\u001b[0;34m,\u001b[0m \u001b[0malleles\u001b[0m\u001b[0;34m,\u001b[0m \u001b[0mbot\u001b[0m\u001b[0;34m)\u001b[0m\u001b[0;34m\u001b[0m\u001b[0m\n\u001b[0m",
      "\u001b[0;32m<ipython-input-560-ba895bfe0055>\u001b[0m in \u001b[0;36mcline\u001b[0;34m(locus_A, locus_B, steps, N, p, pops, alleles, bot)\u001b[0m\n\u001b[1;32m     79\u001b[0m             \u001b[0;32mfor\u001b[0m \u001b[0mPkey\u001b[0m \u001b[0;32min\u001b[0m \u001b[0mpops\u001b[0m\u001b[0;34m.\u001b[0m\u001b[0mkeys\u001b[0m\u001b[0;34m(\u001b[0m\u001b[0;34m)\u001b[0m\u001b[0;34m:\u001b[0m\u001b[0;34m\u001b[0m\u001b[0m\n\u001b[1;32m     80\u001b[0m                 \u001b[0;31m#Calculate allele and phetype frequencies for every population, including newly created ones.\u001b[0m\u001b[0;34m\u001b[0m\u001b[0;34m\u001b[0m\u001b[0m\n\u001b[0;32m---> 81\u001b[0;31m                 \u001b[0mpA\u001b[0m \u001b[0;34m=\u001b[0m \u001b[0mallele_freq\u001b[0m\u001b[0;34m(\u001b[0m\u001b[0malleles\u001b[0m\u001b[0;34m[\u001b[0m\u001b[0mPkey\u001b[0m\u001b[0;34m]\u001b[0m\u001b[0;34m.\u001b[0m\u001b[0mitems\u001b[0m\u001b[0;34m(\u001b[0m\u001b[0;34m)\u001b[0m\u001b[0;34m[\u001b[0m\u001b[0;36m0\u001b[0m\u001b[0;34m]\u001b[0m\u001b[0;34m[\u001b[0m\u001b[0;36m1\u001b[0m\u001b[0;34m]\u001b[0m\u001b[0;34m)\u001b[0m\u001b[0;34m\u001b[0m\u001b[0m\n\u001b[0m\u001b[1;32m     82\u001b[0m                 \u001b[0mpB\u001b[0m \u001b[0;34m=\u001b[0m \u001b[0mallele_freq\u001b[0m\u001b[0;34m(\u001b[0m\u001b[0malleles\u001b[0m\u001b[0;34m[\u001b[0m\u001b[0mPkey\u001b[0m\u001b[0;34m]\u001b[0m\u001b[0;34m.\u001b[0m\u001b[0mitems\u001b[0m\u001b[0;34m(\u001b[0m\u001b[0;34m)\u001b[0m\u001b[0;34m[\u001b[0m\u001b[0;36m2\u001b[0m\u001b[0;34m]\u001b[0m\u001b[0;34m[\u001b[0m\u001b[0;36m1\u001b[0m\u001b[0;34m]\u001b[0m\u001b[0;34m)\u001b[0m\u001b[0;34m\u001b[0m\u001b[0m\n\u001b[1;32m     83\u001b[0m                 \u001b[0mpops\u001b[0m\u001b[0;34m[\u001b[0m\u001b[0mPkey\u001b[0m\u001b[0;34m]\u001b[0m\u001b[0;34m.\u001b[0m\u001b[0mappend\u001b[0m\u001b[0;34m(\u001b[0m\u001b[0;34m[\u001b[0m\u001b[0malleles\u001b[0m\u001b[0;34m[\u001b[0m\u001b[0mPkey\u001b[0m\u001b[0;34m]\u001b[0m\u001b[0;34m.\u001b[0m\u001b[0mitems\u001b[0m\u001b[0;34m(\u001b[0m\u001b[0;34m)\u001b[0m\u001b[0;34m[\u001b[0m\u001b[0;36m1\u001b[0m\u001b[0;34m]\u001b[0m\u001b[0;34m[\u001b[0m\u001b[0;36m1\u001b[0m\u001b[0;34m]\u001b[0m\u001b[0;34m[\u001b[0m\u001b[0;36m0\u001b[0m\u001b[0;34m]\u001b[0m\u001b[0;34m,\u001b[0m \u001b[0mi\u001b[0m\u001b[0;34m,\u001b[0m \u001b[0mpA\u001b[0m\u001b[0;34m,\u001b[0m \u001b[0mpB\u001b[0m\u001b[0;34m,\u001b[0m \u001b[0mphenotype\u001b[0m\u001b[0;34m(\u001b[0m\u001b[0mpA\u001b[0m\u001b[0;34m,\u001b[0m \u001b[0mpB\u001b[0m\u001b[0;34m)\u001b[0m\u001b[0;34m]\u001b[0m\u001b[0;34m)\u001b[0m\u001b[0;34m\u001b[0m\u001b[0m\n",
      "\u001b[0;32m<ipython-input-560-ba895bfe0055>\u001b[0m in \u001b[0;36mallele_freq\u001b[0;34m(locus)\u001b[0m\n\u001b[1;32m     21\u001b[0m \u001b[0;31m# From list containing alleles, calculate the frequency of 'A' or 'B' allele.\u001b[0m\u001b[0;34m\u001b[0m\u001b[0;34m\u001b[0m\u001b[0m\n\u001b[1;32m     22\u001b[0m \u001b[0;32mdef\u001b[0m \u001b[0mallele_freq\u001b[0m\u001b[0;34m(\u001b[0m\u001b[0mlocus\u001b[0m\u001b[0;34m)\u001b[0m\u001b[0;34m:\u001b[0m\u001b[0;34m\u001b[0m\u001b[0m\n\u001b[0;32m---> 23\u001b[0;31m     \u001b[0mp\u001b[0m \u001b[0;34m=\u001b[0m \u001b[0msum\u001b[0m\u001b[0;34m(\u001b[0m\u001b[0;36m1\u001b[0m\u001b[0;34m*\u001b[0m\u001b[0mi\u001b[0m\u001b[0;34m.\u001b[0m\u001b[0misupper\u001b[0m\u001b[0;34m(\u001b[0m\u001b[0;34m)\u001b[0m \u001b[0;32mfor\u001b[0m \u001b[0mi\u001b[0m \u001b[0;32min\u001b[0m \u001b[0mlocus\u001b[0m\u001b[0;34m)\u001b[0m\u001b[0;34m/\u001b[0m\u001b[0mfloat\u001b[0m\u001b[0;34m(\u001b[0m\u001b[0mlen\u001b[0m\u001b[0;34m(\u001b[0m\u001b[0mlocus\u001b[0m\u001b[0;34m)\u001b[0m\u001b[0;34m)\u001b[0m\u001b[0;34m\u001b[0m\u001b[0m\n\u001b[0m\u001b[1;32m     24\u001b[0m     \u001b[0;32mreturn\u001b[0m \u001b[0mp\u001b[0m\u001b[0;34m\u001b[0m\u001b[0m\n\u001b[1;32m     25\u001b[0m \u001b[0;34m\u001b[0m\u001b[0m\n",
      "\u001b[0;31mZeroDivisionError\u001b[0m: float division by zero"
     ]
    }
   ],
   "source": [
    "cline(locus_A,locus_B, steps, N, p, pops, alleles, bot)"
   ]
  },
  {
   "cell_type": "code",
   "execution_count": 501,
   "metadata": {
    "collapsed": false
   },
   "outputs": [],
   "source": [
    "def pop_growth(r, Akey, alleles):\n",
    "    size = alleles[Akey].items()[1][1][0] # Retrieve size of population. 'Akey' allows indexing of alleles dictionary in cline function\n",
    "    R = r - (0.01*size) # Calculate modified growth rate. Modifier constant currently needs to be changed manually based on desired carrying capacity\n",
    "    new_size = int(round(R*size)) # Calculate new population size\n",
    "    return [new_size]"
   ]
  },
  {
   "cell_type": "code",
   "execution_count": 421,
   "metadata": {
    "collapsed": false
   },
   "outputs": [
    {
     "ename": "NameError",
     "evalue": "name 'size' is not defined",
     "output_type": "error",
     "traceback": [
      "\u001b[0;31m---------------------------------------------------------------------------\u001b[0m",
      "\u001b[0;31mNameError\u001b[0m                                 Traceback (most recent call last)",
      "\u001b[0;32m<ipython-input-421-4c97f6bbb698>\u001b[0m in \u001b[0;36m<module>\u001b[0;34m()\u001b[0m\n\u001b[0;32m----> 1\u001b[0;31m \u001b[0mpop_growth\u001b[0m\u001b[0;34m(\u001b[0m\u001b[0;36m2\u001b[0m\u001b[0;34m,\u001b[0m \u001b[0msize\u001b[0m\u001b[0;34m)\u001b[0m\u001b[0;34m\u001b[0m\u001b[0m\n\u001b[0m",
      "\u001b[0;31mNameError\u001b[0m: name 'size' is not defined"
     ]
    }
   ],
   "source": [
    "pop_growth(2, size)"
   ]
  },
  {
   "cell_type": "code",
   "execution_count": 587,
   "metadata": {
    "collapsed": false
   },
   "outputs": [
    {
     "data": {
      "text/plain": [
       "2.0"
      ]
     },
     "execution_count": 587,
     "metadata": {},
     "output_type": "execute_result"
    }
   ],
   "source": [
    "math.ceil(1.1)"
   ]
  },
  {
   "cell_type": "code",
   "execution_count": 590,
   "metadata": {
    "collapsed": false
   },
   "outputs": [],
   "source": [
    "pA = 0.5 # Initial frequency of 'A' allele\n",
    "pB = 0.5 # Initial frequency of 'B' allele\n",
    "qA = 1 - pA # 'a' allele\n",
    "qB = 1 - pB\n",
    "pop_counter = 1\n",
    "N = 10\n",
    "locus_A = (['A'] * int(N*pA) ) + (['a'] * int(round(N*qA)) ) # [A,A,A,A,a,a,a,a,....]\n",
    "locus_B = (['B'] * int(N*pB) ) + (['b'] * int(round(N*qB)) ) \n",
    "r = 2\n",
    "bot = 0.1\n",
    "pops = OrderedDict({'1':[]}) # Re-initialize dictionary to store populations\n",
    "alleles = OrderedDict({'1':{'A':sample_population_A(locus_A, N),'B':sample_population_B(locus_B, N),'S':[N]}})"
   ]
  },
  {
   "cell_type": "code",
   "execution_count": 591,
   "metadata": {
    "collapsed": false
   },
   "outputs": [],
   "source": [
    "for i in range (2):\n",
    "    for Akey, Avalue in alleles.items():\n",
    "        if Akey in pops.keys():\n",
    "            Avalue['S'] = pop_growth(r, Akey, Avalue, alleles)\n",
    "            Avalue['A'] = (sample_population_A(Avalue['A'], Avalue['S'][0]))\n",
    "            Avalue['B'] = (sample_population_B(Avalue['B'], Avalue['S'][0]))\n",
    "            create_population(p, Akey, Avalue, pops, alleles, bot)"
   ]
  },
  {
   "cell_type": "code",
   "execution_count": 546,
   "metadata": {
    "collapsed": false
   },
   "outputs": [
    {
     "data": {
      "text/plain": [
       "10"
      ]
     },
     "execution_count": 546,
     "metadata": {},
     "output_type": "execute_result"
    }
   ],
   "source": [
    "size"
   ]
  },
  {
   "cell_type": "code",
   "execution_count": 592,
   "metadata": {
    "collapsed": false
   },
   "outputs": [
    {
     "data": {
      "text/plain": [
       "OrderedDict([('1',\n",
       "              {'A': ['A',\n",
       "                'A',\n",
       "                'A',\n",
       "                'A',\n",
       "                'A',\n",
       "                'A',\n",
       "                'A',\n",
       "                'A',\n",
       "                'a',\n",
       "                'A',\n",
       "                'A',\n",
       "                'A',\n",
       "                'A',\n",
       "                'a',\n",
       "                'A',\n",
       "                'A',\n",
       "                'a',\n",
       "                'A',\n",
       "                'A',\n",
       "                'a',\n",
       "                'a',\n",
       "                'A',\n",
       "                'a',\n",
       "                'A',\n",
       "                'a',\n",
       "                'A',\n",
       "                'A',\n",
       "                'A',\n",
       "                'A',\n",
       "                'A',\n",
       "                'A',\n",
       "                'A',\n",
       "                'A',\n",
       "                'A',\n",
       "                'A'],\n",
       "               'B': ['B',\n",
       "                'B',\n",
       "                'B',\n",
       "                'B',\n",
       "                'b',\n",
       "                'B',\n",
       "                'b',\n",
       "                'b',\n",
       "                'B',\n",
       "                'B',\n",
       "                'b',\n",
       "                'B',\n",
       "                'B',\n",
       "                'b',\n",
       "                'B',\n",
       "                'B',\n",
       "                'b',\n",
       "                'b',\n",
       "                'B',\n",
       "                'B',\n",
       "                'B',\n",
       "                'b',\n",
       "                'B',\n",
       "                'b',\n",
       "                'b',\n",
       "                'B',\n",
       "                'b',\n",
       "                'B',\n",
       "                'B',\n",
       "                'B',\n",
       "                'B',\n",
       "                'b',\n",
       "                'B',\n",
       "                'b',\n",
       "                'B'],\n",
       "               'S': [35]}),\n",
       "             ('2_1',\n",
       "              {'A': ['A', 'A', 'a', 'A'],\n",
       "               'B': ['b', 'b', 'b', 'b'],\n",
       "               'S': [4]}),\n",
       "             ('3_1',\n",
       "              {'A': ['A', 'A', 'A', 'a'],\n",
       "               'B': ['B', 'B', 'B', 'b'],\n",
       "               'S': [4]}),\n",
       "             ('4_2_1', {'A': ['A'], 'B': ['b'], 'S': [1]})])"
      ]
     },
     "execution_count": 592,
     "metadata": {},
     "output_type": "execute_result"
    }
   ],
   "source": [
    "alleles"
   ]
  },
  {
   "cell_type": "code",
   "execution_count": 294,
   "metadata": {
    "collapsed": false
   },
   "outputs": [
    {
     "data": {
      "text/plain": [
       "0.99995460213129761"
      ]
     },
     "execution_count": 294,
     "metadata": {},
     "output_type": "execute_result"
    }
   ],
   "source": [
    "from scipy.special import expit\n",
    "expit(10)"
   ]
  },
  {
   "cell_type": "code",
   "execution_count": 410,
   "metadata": {
    "collapsed": false
   },
   "outputs": [
    {
     "data": {
      "text/plain": [
       "2"
      ]
     },
     "execution_count": 410,
     "metadata": {},
     "output_type": "execute_result"
    }
   ],
   "source": [
    "r"
   ]
  },
  {
   "cell_type": "code",
   "execution_count": 588,
   "metadata": {
    "collapsed": true
   },
   "outputs": [],
   "source": [
    "def bottle(bot, Akey, Avalue):\n",
    "    return int(math.ceil(bot*Avalue['S'][0]))"
   ]
  },
  {
   "cell_type": "code",
   "execution_count": null,
   "metadata": {
    "collapsed": true
   },
   "outputs": [],
   "source": []
  }
 ],
 "metadata": {
  "anaconda-cloud": {},
  "kernelspec": {
   "display_name": "Python [Root]",
   "language": "python",
   "name": "Python [Root]"
  },
  "language_info": {
   "codemirror_mode": {
    "name": "ipython",
    "version": 2
   },
   "file_extension": ".py",
   "mimetype": "text/x-python",
   "name": "python",
   "nbconvert_exporter": "python",
   "pygments_lexer": "ipython2",
   "version": "2.7.12"
  }
 },
 "nbformat": 4,
 "nbformat_minor": 0
}
