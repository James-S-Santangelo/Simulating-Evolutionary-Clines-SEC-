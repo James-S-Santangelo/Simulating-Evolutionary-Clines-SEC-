{
 "cells": [
  {
   "cell_type": "code",
   "execution_count": 1,
   "metadata": {},
   "outputs": [],
   "source": [
    "import math\n",
    "\n",
    "def pop_growth(size, K, r):\n",
    "    \"\"\"Calculates new population size based on logistic growth model\n",
    "\n",
    "    Args:\n",
    "        K (int): Maximum size of population (i.e. carrying capacity)\n",
    "        r (float): Instantaneous rate of population increase (i.e. growth rate)\n",
    "\n",
    "    Returns:\n",
    "        new_size (int): Rounded up new_size is less than or equal to K, rounded down otherwise.\n",
    "    \"\"\"\n",
    "    K = float(K)\n",
    "    r = math.log(r)\n",
    "    new_size = size * K / (size + (K - size) * math.exp(-r))\n",
    "    if new_size <= K:\n",
    "        return int(math.ceil(new_size))\n",
    "    elif new_size > K:\n",
    "        return int(math.floor(new_size))"
   ]
  },
  {
   "cell_type": "code",
   "execution_count": 27,
   "metadata": {},
   "outputs": [],
   "source": [
    "size = 10\n",
    "r = 1\n",
    "K = 1000\n",
    "\n",
    "gen = []\n",
    "size_lst = []\n",
    "\n",
    "for i in xrange(30):\n",
    "    gen.append(i)\n",
    "    size_lst.append(size)\n",
    "    size = pop_growth(size, K, r)"
   ]
  },
  {
   "cell_type": "code",
   "execution_count": 28,
   "metadata": {},
   "outputs": [
    {
     "data": {
      "image/png": "[encoded data removed]",
      "text/plain": [
       "<matplotlib.figure.Figure at 0x1064f0810>"
      ]
     },
     "metadata": {},
     "output_type": "display_data"
    }
   ],
   "source": [
    "import matplotlib.pyplot as plt\n",
    "\n",
    "fig = plt.figure(figsize=(5, 5), dpi=100)\n",
    "plt.plot(gen, size_lst)\n",
    "plt.xlabel('Generation', fontsize = 15)\n",
    "plt.ylabel('Population size', fontsize = 15)\n",
    "plt.show()"
   ]
  },
  {
   "cell_type": "code",
   "execution_count": 26,
   "metadata": {},
   "outputs": [
    {
     "data": {
      "text/plain": [
       "[(0, 10),\n",
       " (1, 15),\n",
       " (2, 23),\n",
       " (3, 35),\n",
       " (4, 52),\n",
       " (5, 77),\n",
       " (6, 112),\n",
       " (7, 160),\n",
       " (8, 223),\n",
       " (9, 301),\n",
       " (10, 393),\n",
       " (11, 493),\n",
       " (12, 594),\n",
       " (13, 687),\n",
       " (14, 768),\n",
       " (15, 833),\n",
       " (16, 883),\n",
       " (17, 919),\n",
       " (18, 945),\n",
       " (19, 963),\n",
       " (20, 976),\n",
       " (21, 984),\n",
       " (22, 990),\n",
       " (23, 994),\n",
       " (24, 996),\n",
       " (25, 998),\n",
       " (26, 999),\n",
       " (27, 1000),\n",
       " (28, 1000),\n",
       " (29, 1000)]"
      ]
     },
     "execution_count": 26,
     "metadata": {},
     "output_type": "execute_result"
    }
   ],
   "source": [
    "data = zip(gen, size_lst)\n",
    "data"
   ]
  },
  {
   "cell_type": "code",
   "execution_count": null,
   "metadata": {},
   "outputs": [],
   "source": []
  }
 ],
 "metadata": {
  "kernelspec": {
   "display_name": "Python 2",
   "language": "python",
   "name": "python2"
  },
  "language_info": {
   "codemirror_mode": {
    "name": "ipython",
    "version": 2
   },
   "file_extension": ".py",
   "mimetype": "text/x-python",
   "name": "python",
   "nbconvert_exporter": "python",
   "pygments_lexer": "ipython2",
   "version": "2.7.13"
  }
 },
 "nbformat": 4,
 "nbformat_minor": 2
}
