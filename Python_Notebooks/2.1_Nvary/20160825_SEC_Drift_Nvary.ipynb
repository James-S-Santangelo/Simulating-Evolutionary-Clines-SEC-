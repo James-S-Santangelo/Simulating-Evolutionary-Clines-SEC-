{
 "cells": [
  {
   "cell_type": "markdown",
   "metadata": {},
   "source": [
    "## Simulate non-cyanogenic evolution via drift alone\n",
    "\n",
    "There is a finding that across a cline from less to more urban the frequency of a non-cyanogenic phenotype increases\n",
    "The phenotype is genetically controlled by two loci, both of which have a segregating knock-out allele\n",
    "If any individual is homozygous for either knockout they become non-cyanogenic\n",
    "\n",
    "In this extremely simple simulation I create a 'population' which is represented by 2 lists of alleles (A/a and B/b)\n",
    "To simulate evolution I randomly sample with replacement from the lists to create new list that represent the next generation.\n",
    "\n",
    "By repeating this process with variable starting frequencies, population sizes and numbers of generations (functionally equivalent to steps in a strict stepping stone) we can look at the change in the frequency of cyanogenic and non-cyanogenic phenotypes"
   ]
  },
  {
   "cell_type": "code",
   "execution_count": 96,
   "metadata": {
    "collapsed": false
   },
   "outputs": [],
   "source": [
    "import random\n",
    "from collections import OrderedDict\n",
    "import csv\n",
    "import time\n",
    "\n",
    "\n",
    "# Randomly sample 'N' alleles from lists containing alleles for locus A (allels: A or a) and locus B (alleles: B or b). \n",
    "# Return list containing sampled alleles.\n",
    "def sample_population(locus_A, locus_B, N):\n",
    "    new_locus_A = [random.choice(locus_A) for _ in range(N)]\n",
    "    new_locus_B = [random.choice(locus_B) for _ in range(N)]\n",
    "    return new_locus_A, new_locus_B\n",
    "\n",
    "# From list containing alleles, calculate the frequency of 'A' or 'B' allele. \n",
    "def allele_freq(locus):\n",
    "    p = sum(1*i.isupper() for i in locus)/float(len(locus))\n",
    "    return p\n",
    "\n",
    "# Join list containing simulation results (e.g. Population size, allele frequencies, phenotype frequency, etc.) with \n",
    "# list containing iteration number (i.e. sim)\n",
    "def final_results(results,sim):\n",
    "    return [a + b for a,b in zip(results,sim)]\n",
    "\n",
    "\n",
    "# Given the frequencies of 'A' and 'B' alleles, return the frequency of the 'acyanogenic' phenotype (i.e. recessive\n",
    "# at either the A locus, B locus, or both) \n",
    "def phenotype(pA, pB):\n",
    "    qA = 1-pA\n",
    "    qB = 1-pB\n",
    "    mut= qA**2 + qB**2 - (qA**2 * qB**2)\n",
    "    WT = 1-mut\n",
    "    return mut # Frequency of acyanogenic phenotype\n",
    "\n",
    "\n",
    "# This function returns the proportion of all simulations that resulted in fixation of either phenotype. 'FixedU' \n",
    "# is the proportion fixed for acyanogenesis and 'FixedD' for cyanogenesis. \n",
    "def prop_fixed(big_dict,sims):\n",
    "    fixedU = 0\n",
    "    fixedD = 0\n",
    "    for s in big_dict[len(big_dict)-1]: # Only look at final generation\n",
    "        if s[2] == 1.0:  # Index of 2 required to access third item in step_dict list (i.e. phenotype frequency)\n",
    "            fixedU += 1\n",
    "        if s[2] == 0.0:\n",
    "            fixedD += 1\n",
    "    return fixedU/float(sims), fixedD/float(sims)\n",
    "\n",
    "# Randomly samples N alleles from locus A and locus B, calculates the frequency of both alleles followed by the frequency\n",
    "# of 'acyanogenesis' phenotype and adds this frequency to step_dict list. Repeats process \"step\" times. Note that locus_A\n",
    "# and locus_B are defined in the for loop. Therefore with each generation (i.e. step), loci are sampled from those sampled\n",
    "# in the previous generation. This is analogous to a stepping stone model. \n",
    "def cline(locus_A,locus_B, steps, N):\n",
    "    for i in range(steps):\n",
    "        #print i,\n",
    "        locus_A, locus_B = (sample_population(locus_A,locus_B, N))\n",
    "        pA, pB = allele_freq(locus_A), allele_freq(locus_B)\n",
    "        #print pA, pB, phenotype(pA, pB)\n",
    "        results.append([N,i,pA,pB,phenotype(pA,pB)])\n",
    "    return results # results contains pop. size (N), step, (generation), allele frequencies and frequency of acyanogenic phenotype\n",
    "\n",
    "\n",
    "# Same function as above but used for generating results in a way that allows me to more easily calculate the proportion of \n",
    "# simulations resulting in fixation of either phenotype (using \"prop_fixed\" function). \n",
    "# I'm sure there is a way to avoid using the same function twice but I haven't figured it out yet. \n",
    "def cline_fixed(locus_A,locus_B, steps, N):\n",
    "    step_dict = OrderedDict() # Create ordered list that successively stores results of the cline functions step times (i.e. each generation)\n",
    "    for i in range(steps):\n",
    "        #print i,\n",
    "        locus_A, locus_B = (sample_population(locus_A,locus_B, N))\n",
    "        pA, pB = allele_freq(locus_A), allele_freq(locus_B)\n",
    "        #print pA, pB, phenotype(pA, pB)\n",
    "        step_dict[i] = pA, pB, phenotype(pA, pB)\n",
    "    return step_dict # step_dict contains allele frequencies and frequency of acyanogenesis\n",
    "        \n",
    "# Using the functions defined above, 'simulate' performs 'sims' iterations of the cline function -- simulating the effects \n",
    "# of drift in a stepping stone model -- each time storing the results.\n",
    "def simulate(pA, pB, steps, N, sims):\n",
    "    qA = 1-pA # Frequency of 'a' allele\n",
    "    qB = 1-pB\n",
    "    # Make the two lists based on the allele frequency to represent the initial population\n",
    "    locus_A = (['A'] * int(N*pA) ) + (['a'] * int(round(N*qA)) ) # [A,A,A,A,a,a,a,a,....]\n",
    "    locus_B = (['B'] * int(N*pB) ) + (['b'] * int(round(N*qB)) ) \n",
    "    ####### sims simulations #####################\n",
    "    # We will simulate 'steps' iterations of resampling this population to simulate drift\n",
    "    # We will then repeat that simulation of 'steps' iterations 1000 times to get a mean\n",
    "    ##############################################\n",
    "    big_dict = OrderedDict() # Large ordered lists to store the results of 'sims' iterations of the cline function\n",
    "    for s in range(steps): big_dict[s] = [] # Create as many empty dictionaries as there as steps (i.e. generations)\n",
    "    for i in range(sims):\n",
    "        # reset the population for each iteration. I don't actually think this is necessary\n",
    "        locus_A = (['A'] * int(N*pA) ) + (['a'] * int(round(N*qA)) ) \n",
    "        locus_B = (['B'] * int(N*pB) ) + (['b'] * int(round(N*qB)) ) \n",
    "        step_dict = cline_fixed(locus_A,locus_B, steps, N) # Adds results to step_dict. Only used for calculating fixation\n",
    "        cline(locus_A,locus_B, steps, N) # appends results to globally defined 'results' list\n",
    "        for s in step_dict: big_dict[s].append(step_dict[s])\n",
    "        for x in range(steps):sim.append([i])\n",
    "    fixed.append(prop_fixed(big_dict,sims)) # Proportion of simulations resulting in fixation of either phenotype.\n",
    "    #return big_dict, step_dict"
   ]
  },
  {
   "cell_type": "code",
   "execution_count": 97,
   "metadata": {
    "collapsed": false
   },
   "outputs": [
    {
     "name": "stdout",
     "output_type": "stream",
     "text": [
      "My program took 37.0164730549 seconds to run\n"
     ]
    }
   ],
   "source": [
    "# To look at how the effects of drift in generating clines in acyanogenesis changes with population size (N), we will perform\n",
    "# simulations using the function above at varying populatiion sizes. We will vary population size as follows:\n",
    "# Population size (N): (Start, End, By) -- (10,100,10);(100,500,100);(500,1000,500);(1000,5000,1000);(5000,10000,5000)\n",
    "# 'A' and 'B' alleles held constant at 0.5. \n",
    "# 'Steps' held constant at 50\n",
    "# 'Sims' held constant at 10000\n",
    "# All results exported as 'csv' files for import and analysis in R\n",
    "\n",
    "start_time = time.time()\n",
    "\n",
    "N = 10 # Starting population size (i.e. sample 10 alleles)\n",
    "pA = 0.5\n",
    "pB = 0.5\n",
    "steps = 50\n",
    "sims = 10\n",
    "results = [['N','step','pA','pB','Phen']] # Results stored here. Header added.\n",
    "sim = [['sim']] # Iteration of cline function (i.e. 'sim') stored here. Will later be appended to 'results'\n",
    "fixed = [['Up','Down']] # Proportion of simulations resulting in fixation stored here\n",
    "for i in range(100):\n",
    "    if N >=10 and N < 100: # When N between 10 and 100, run simulation, increment population size by 10\n",
    "        simulate(pA,pB,steps,N,sims) \n",
    "        N += 10\n",
    "    elif N >= 100 and N < 500:\n",
    "        simulate(pA,pB,steps,N,sims)\n",
    "        N += 100\n",
    "    elif N >= 500 and N < 1000:\n",
    "        simulate(pA,pB,steps,N,sims)\n",
    "        N += 500\n",
    "    elif N >= 1000 and N <= 5000:\n",
    "        simulate(pA,pB,steps,N,sims)\n",
    "        N += 1000\n",
    "    elif N > 5000:\n",
    "        final = final_results(results,sim) # Store final results with 'sim' appended to the rest of 'results'\n",
    "        with open(\"20160825_SEC_Drift_Nvary.results.csv\", \"wb\") as f:\n",
    "            writer = csv.writer(f)\n",
    "            writer.writerows(final)\n",
    "        with open(\"20160825_SEC_Drift_Nvary.fixed.csv\", \"wb\") as f:\n",
    "            writer = csv.writer(f)\n",
    "            writer.writerows(fixed)\n",
    "        break\n",
    "\n",
    "print \"My program took\", time.time() - start_time, \"seconds to run\""
   ]
  },
  {
   "cell_type": "code",
   "execution_count": 1,
   "metadata": {
    "collapsed": false
   },
   "outputs": [
    {
     "name": "stdout",
     "output_type": "stream",
     "text": [
      "Once deleted, variables cannot be recovered. Proceed (y/[n])? y\n"
     ]
    }
   ],
   "source": [
    "%reset"
   ]
  },
  {
   "cell_type": "code",
   "execution_count": 4,
   "metadata": {
    "collapsed": true
   },
   "outputs": [
    {
     "data": {
      "text/plain": [
       "[[10, 0, 0.0, 1.0, 1.0],\n",
       " [10, 1, 0.0, 1.0, 1.0],\n",
       " [10, 2, 0.0, 1.0, 1.0],\n",
       " [10, 3, 0.0, 1.0, 1.0],\n",
       " [10, 4, 0.0, 1.0, 1.0],\n",
       " [10, 5, 0.0, 1.0, 1.0],\n",
       " [10, 6, 0.0, 1.0, 1.0],\n",
       " [10, 7, 0.0, 1.0, 1.0],\n",
       " [10, 8, 0.0, 1.0, 1.0],\n",
       " [10, 9, 0.0, 1.0, 1.0],\n",
       " [10, 10, 0.0, 1.0, 1.0],\n",
       " [10, 11, 0.0, 1.0, 1.0],\n",
       " [10, 12, 0.0, 1.0, 1.0],\n",
       " [10, 13, 0.0, 1.0, 1.0],\n",
       " [10, 14, 0.0, 1.0, 1.0],\n",
       " [10, 15, 0.0, 1.0, 1.0],\n",
       " [10, 16, 0.0, 1.0, 1.0],\n",
       " [10, 17, 0.0, 1.0, 1.0],\n",
       " [10, 18, 0.0, 1.0, 1.0],\n",
       " [10, 19, 0.0, 1.0, 1.0],\n",
       " [10, 20, 0.0, 1.0, 1.0],\n",
       " [10, 21, 0.0, 1.0, 1.0],\n",
       " [10, 22, 0.0, 1.0, 1.0],\n",
       " [10, 23, 0.0, 1.0, 1.0],\n",
       " [10, 24, 0.0, 1.0, 1.0],\n",
       " [10, 25, 0.0, 1.0, 1.0],\n",
       " [10, 26, 0.0, 1.0, 1.0],\n",
       " [10, 27, 0.0, 1.0, 1.0],\n",
       " [10, 28, 0.0, 1.0, 1.0],\n",
       " [10, 29, 0.0, 1.0, 1.0],\n",
       " [10, 30, 0.0, 1.0, 1.0],\n",
       " [10, 31, 0.0, 1.0, 1.0],\n",
       " [10, 32, 0.0, 1.0, 1.0],\n",
       " [10, 33, 0.0, 1.0, 1.0],\n",
       " [10, 34, 0.0, 1.0, 1.0],\n",
       " [10, 35, 0.0, 1.0, 1.0],\n",
       " [10, 36, 0.0, 1.0, 1.0],\n",
       " [10, 37, 0.0, 1.0, 1.0],\n",
       " [10, 38, 0.0, 1.0, 1.0],\n",
       " [10, 39, 0.0, 1.0, 1.0],\n",
       " [10, 40, 0.0, 1.0, 1.0],\n",
       " [10, 41, 0.0, 1.0, 1.0],\n",
       " [10, 42, 0.0, 1.0, 1.0],\n",
       " [10, 43, 0.0, 1.0, 1.0],\n",
       " [10, 44, 0.0, 1.0, 1.0],\n",
       " [10, 45, 0.0, 1.0, 1.0],\n",
       " [10, 46, 0.0, 1.0, 1.0],\n",
       " [10, 47, 0.0, 1.0, 1.0],\n",
       " [10, 48, 0.0, 1.0, 1.0],\n",
       " [10, 49, 0.0, 1.0, 1.0]]"
      ]
     },
     "execution_count": 4,
     "metadata": {},
     "output_type": "execute_result"
    }
   ],
   "source": [
    "N = 10\n",
    "pA = 0.5\n",
    "pB = 0.5\n",
    "qA = 0.5\n",
    "qB = 0.5\n",
    "steps = 50\n",
    "locus_A = (['A'] * int(N*pA) ) + (['a'] * int(round(N*qA)) ) # [A,A,A,A,a,a,a,a,....]\n",
    "locus_B = (['B'] * int(N*pB) ) + (['b'] * int(round(N*qB)) ) \n",
    "cline(locus_A,locus_B, steps, N)"
   ]
  },
  {
   "cell_type": "code",
   "execution_count": 24,
   "metadata": {
    "collapsed": false
   },
   "outputs": [],
   "source": [
    "results = []\n",
    "fixed = []\n",
    "simulate(pA, pB, steps, N, 10)"
   ]
  },
  {
   "cell_type": "code",
   "execution_count": null,
   "metadata": {
    "collapsed": true
   },
   "outputs": [],
   "source": []
  }
 ],
 "metadata": {
  "anaconda-cloud": {},
  "kernelspec": {
   "display_name": "Python [Root]",
   "language": "python",
   "name": "Python [Root]"
  },
  "language_info": {
   "codemirror_mode": {
    "name": "ipython",
    "version": 2
   },
   "file_extension": ".py",
   "mimetype": "text/x-python",
   "name": "python",
   "nbconvert_exporter": "python",
   "pygments_lexer": "ipython2",
   "version": "2.7.12"
  }
 },
 "nbformat": 4,
 "nbformat_minor": 0
}
