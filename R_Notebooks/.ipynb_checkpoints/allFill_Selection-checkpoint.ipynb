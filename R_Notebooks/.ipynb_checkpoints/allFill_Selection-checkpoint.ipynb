{
 "cells": [
  {
   "cell_type": "markdown",
   "metadata": {},
   "source": [
    "# Gradient in _K_ with migration, selection\n",
    "\n",
    "In these simulations, we imposed a gradient in carrying capacity across the matrix, with rural population being the largest and urban the smallest. All populations were initialized at carrying capacity. We performed simulations under 3 migration rates: 0, 0.01, 0.05. Simulations included 10 selection coefficients: 0; 0.001; 0.0025; 0.005; 0.0075; 0.01; 0.025; 0.05; 0.1; 0.2 The parameter combinations were as follows (all varied parameters crossed factorially, total simulations = 30): \n",
    "\n",
    "* Number of simulations: 1000\n",
    "* Number of generations: 500\n",
    "* Max Creation probability: NA\n",
    "* Bottleneck proportion: NA\n",
    "* pA and pB: [0.1; 0.5; 0.9] and [0.1; 0.5; 0.9]\n",
    "* Migration rate: [0; 0.01; 0.05]\n",
    "* Maximum _K_ (rural): 1000\n",
    "* Minimum _K_ (urban): 1000\n",
    "* Maximum selection coefficient: 0; 0.001; 0.0025; 0.005; 0.0075; 0.01; 0.025; 0.05; 0.1; 0.2"
   ]
  },
  {
   "cell_type": "code",
   "execution_count": null,
   "metadata": {},
   "outputs": [],
   "source": [
    "library(plyr)\n",
    "library(ggplot2)\n",
    "library(data.table)\n",
    "library(Rmisc)\n",
    "library(dplyr)"
   ]
  },
  {
   "cell_type": "code",
   "execution_count": null,
   "metadata": {},
   "outputs": [],
   "source": [
    "#Working directory for datasets varying migration rate and bottleneck proportion \n",
    "setwd('/Users/jamessantangelo/Documents/Academia/Doctorate_PhD/Projects/SEC_Simulating.evolutionary.clines/SEC_Data/summary-datasets/allFill_Selection')\n",
    "\n",
    "# Dataset for mean slope and proportions by parameter combination\n",
    "MeansProps <- fread('20171218_MeansProps_allFill_Selection.csv', header = T)\n",
    "MeansProps$max_s = as.factor(as.character(MeansProps$max_s))\n",
    "MeansProps$Mig_rate = as.factor(as.character(MeansProps$Mig_rate))\n",
    "MeansProps$prop_sigPos[MeansProps$prop_sigPos == 1.000] <- 0.0"
   ]
  },
  {
   "cell_type": "code",
   "execution_count": null,
   "metadata": {},
   "outputs": [],
   "source": [
    "#Data subsets\n",
    "MeansProps_Gen250 <- subset(MeansProps, seq == \"250\")\n",
    "MeansProps_NoMig <- subset(MeansProps, Mig_rate == \"0\")\n",
    "MeansProps_NoMig_Gen250 <- subset(MeansProps, seq == \"250\" & Mig_rate == \"0\")"
   ]
  },
  {
   "cell_type": "code",
   "execution_count": null,
   "metadata": {},
   "outputs": [],
   "source": [
    "str(MeansProps)"
   ]
  },
  {
   "cell_type": "code",
   "execution_count": null,
   "metadata": {},
   "outputs": [],
   "source": [
    "#Themes used for plotting\n",
    "ng1=theme(aspect.ratio=0.7,panel.background = element_blank(), \n",
    "          panel.grid.major = element_blank(), \n",
    "          panel.grid.minor = element_blank(),\n",
    "          panel.border=element_blank(),\n",
    "          axis.line.x = element_line(color=\"black\",size=1), \n",
    "          axis.line.y = element_line(color=\"black\",size=1),\n",
    "          axis.ticks=element_line(color=\"black\"), \n",
    "          axis.text=element_text(color=\"black\",size=15), \n",
    "          axis.title=element_text(color=\"black\",size=1), \n",
    "          axis.title.y=element_text(vjust=2,face=\"bold\",size=15),\n",
    "          axis.title.x=element_text(vjust=0.1,face=\"bold\",size=15),\n",
    "          axis.text.x=element_text(size=13),\n",
    "          axis.text.y=element_text(size=13),\n",
    "          legend.position = \"right\", legend.direction=\"vertical\", \n",
    "          legend.text=element_text(size=11), legend.key = element_rect(fill = \"white\"), \n",
    "          legend.title = element_text(size=13,face=\"bold\"),legend.key.size = unit(0.5, \"cm\"))\n",
    "\n",
    "ng1.45=theme(aspect.ratio=0.7,panel.background = element_blank(), \n",
    "          panel.grid.major = element_blank(), \n",
    "          panel.grid.minor = element_blank(),\n",
    "          panel.border=element_blank(),\n",
    "          axis.line.x = element_line(color=\"black\",size=1), \n",
    "          axis.line.y = element_line(color=\"black\",size=1),\n",
    "          axis.ticks=element_line(color=\"black\"), \n",
    "          axis.text=element_text(color=\"black\",size=15), \n",
    "          axis.title=element_text(color=\"black\",size=1), \n",
    "          axis.title.y=element_text(vjust=2,face=\"bold\",size=15),\n",
    "          axis.title.x=element_text(vjust=0.1,face=\"bold\",size=15),\n",
    "          axis.text.x=element_text(size=13,angle=45,hjust=1),\n",
    "          axis.text.y=element_text(size=13),\n",
    "          legend.position = \"right\", legend.direction=\"vertical\", \n",
    "          legend.text=element_text(size=11), legend.key = element_rect(fill = \"white\"), \n",
    "          legend.title = element_text(size=13,face=\"bold\"),legend.key.size = unit(0.5, \"cm\"))"
   ]
  },
  {
   "cell_type": "markdown",
   "metadata": {},
   "source": [
    "# Mean slope by selection and migration rate"
   ]
  },
  {
   "cell_type": "code",
   "execution_count": null,
   "metadata": {},
   "outputs": [],
   "source": [
    "MeanSlope_Sel_Mig <- ggplot(MeansProps_Gen250, aes(x = max_s, y = mean, group = factor(Mig_rate))) + \n",
    "    geom_errorbar(aes(ymin = mean - ci_mean, ymax = mean + ci_mean), width=0.15, size=0.7,\n",
    "    position = position_dodge(width = 0.5)) +\n",
    "    geom_point(size = 3, aes(fill = factor(Mig_rate), shape = factor(Mig_rate)), position = position_dodge(width = 0.5)) + \n",
    "    geom_line(size = 1, aes(linetype = factor(Mig_rate)), position = position_dodge(width = 0.5)) +\n",
    "    scale_shape_manual(labels = c(\"0\", \"0.01\", \"0.05\"), values = c(21, 22, 23)) +\n",
    "    scale_fill_manual(labels = c(\"0\", \"0.01\", \"0.05\"), values = c(\"white\", \"grey60\", \"black\")) +\n",
    "    scale_linetype_manual(labels = c(\"0\", \"0.01\", \"0.05\"), values = c(\"dotted\", \"dashed\", \"solid\")) +  \n",
    "    ylab(\"Mean slope\") + xlab(\"Selection coefficient\") + \n",
    "    labs(fill = \"Migration rate\", shape = \"Migration rate\", linetype = \"Migration rate\") + ng1.45\n",
    "MeanSlope_Sel_Mig"
   ]
  },
  {
   "cell_type": "code",
   "execution_count": null,
   "metadata": {},
   "outputs": [],
   "source": [
    "MeanSlope_byGen <- ggplot(MeansProps_NoMig, aes(x = seq, y = mean, group = max_s, color = AlleleFreqs)) + \n",
    "    ylab(\"Mean slope\") + xlab(\"Generation\") + geom_point(size = 0.5, aes(color = AlleleFreqs)) +\n",
    "    geom_line(size = 0.5, aes(color = AlleleFreqs)) + \n",
    "    coord_cartesian(xlim = c(0, 500)) + scale_x_continuous(breaks = seq(from = 0, to = 500, by = 50)) + \n",
    "    labs(color = \"Selection coefficient\") + \n",
    "    geom_vline(data = Kvary_Mig_Summary_Cyan, xintercept = 250, size = 1, colour = \"#FF3721\", linetype = \"dashed\") + ng1.45\n",
    "MeanSlope_byGen"
   ]
  },
  {
   "cell_type": "markdown",
   "metadata": {},
   "source": [
    "## Effects of allele frequencies on proportion of negative and positive clines"
   ]
  },
  {
   "cell_type": "code",
   "execution_count": null,
   "metadata": {},
   "outputs": [],
   "source": [
    "PropSigPos_Sel_Mig <- ggplot(MeansProps_Gen250, aes(x = max_s, y = prop_sigPos, group = factor(Mig_rate))) + \n",
    "    geom_errorbar(aes(ymin = prop_sigPos - ci_sigPos, ymax = prop_sigPos + ci_sigPos), width=0.15, size=0.7,\n",
    "    position = position_dodge(width = 0.5)) +\n",
    "    geom_point(size = 3, aes(fill = factor(Mig_rate), shape = factor(Mig_rate)), position = position_dodge(width = 0.5)) + \n",
    "    geom_line(size = 1, aes(linetype = factor(Mig_rate)), position = position_dodge(width = 0.5)) +\n",
    "    scale_shape_manual(labels = c(\"0\", \"0.01\", \"0.05\"), values = c(21, 22, 23)) +\n",
    "    scale_fill_manual(labels = c(\"0\", \"0.01\", \"0.05\"), values = c(\"white\", \"grey60\", \"black\")) +\n",
    "    scale_linetype_manual(labels = c(\"0\", \"0.01\", \"0.05\"), values = c(\"dotted\", \"dashed\", \"solid\")) +  \n",
    "    ylab(\"Proportion sig. positive slopes\") + xlab(\"Selection coefficient\") + \n",
    "    labs(fill = \"Migration rate\", shape = \"Migration rate\", linetype = \"Migration rate\") + ng1.45\n",
    "PropSigPos_Sel_Mig"
   ]
  },
  {
   "cell_type": "code",
   "execution_count": null,
   "metadata": {},
   "outputs": [],
   "source": [
    "PropSigPos_byGen <- ggplot(MeansProps_NoMig, aes(x = seq, y = prop_sigPos, group = max_s, color = max_s)) + \n",
    "    ylab(\"Proportion sig. positive slopes\") + xlab(\"Generation\") + geom_point(size = 0.5, aes(color = AlleleFreqs)) +\n",
    "    geom_line(size = 0.5, aes(color = AlleleFreqs)) + \n",
    "    coord_cartesian(xlim = c(0, 500)) + scale_x_continuous(breaks = seq(from = 0, to = 500, by = 50)) + \n",
    "    labs(color = \"Selection coefficient\") + \n",
    "    geom_vline(xintercept = 250, size = 1, colour = \"#FF3721\", linetype = \"dashed\") + ng1.45\n",
    "PropSigPos_byGen "
   ]
  },
  {
   "cell_type": "code",
   "execution_count": null,
   "metadata": {},
   "outputs": [],
   "source": [
    "#Extra columns that will be used to create melting dataset for plotting proportion of positive and negative slopes\n",
    "MeansProps_melt <- dplyr::select(MeansProps_NoMig_Gen250, max_s, prop_sigPos, ci_sigPos, prop_sigNeg,\n",
    "  ci_sigNeg)\n",
    "\n",
    "#Melt dataframe\n",
    "dm1 <- melt(MeansProps_melt[,c(\"max_s\", \"prop_sigPos\", \"ci_sigPos\")], \n",
    "            id=c(\"max_s\", \"ci_sigPos\"))\n",
    "dm2 <- melt(MeansProps_melt[,c(\"max_s\", \"prop_sigNeg\", \"ci_sigNeg\")], \n",
    "            id=c(\"max_s\", \"ci_sigNeg\"))\n",
    "\n",
    "#Rename columns\n",
    "setnames(dm1, old = c(\"ci_sigPos\"), new = \"ci\")\n",
    "setnames(dm2, old = c(\"ci_sigNeg\"), new = \"ci\")\n",
    "\n",
    "#Merge melted dataframes\n",
    "MeansProps_melt <- rbind(dm1, dm2)\n",
    "MeansProps_melt"
   ]
  },
  {
   "cell_type": "code",
   "execution_count": null,
   "metadata": {},
   "outputs": [],
   "source": [
    "#Plot proportion of significant slopes by migration rate\n",
    "PropSig_max_s <- ggplot(MeansProps_melt, aes(x = max_s, y = value, \n",
    "    shape = variable, fill = variable)) + \n",
    "    geom_errorbar(aes(ymin = value - ci, ymax = value + ci), width=0.15, size = 0.7, position = position_dodge(width = 0.55)) +\n",
    "    ylab(\"Proportion sig. slopes\") + xlab(\"Selection coefficient\") + \n",
    "    geom_point(size = 3.5, color = \"black\", position = position_dodge(width = 0.55)) +\n",
    "    scale_shape_manual(labels = c(\"Positive\", \"Negative\"),values=c(22, 23))+\n",
    "    scale_fill_manual(labels = c(\"Positive\", \"Negative\"),values=c(\"white\", \"black\")) +\n",
    "    labs(shape = 'Cline direction', fill = 'Cline direction') + ng1.45\n",
    "PropSig_max_s"
   ]
  },
  {
   "cell_type": "code",
   "execution_count": null,
   "metadata": {},
   "outputs": [],
   "source": [
    "path = \"/scratch/research/projects/trifolium/SEC_Simulation.Evolutionary.Clines/SEC_Sync/SEC_Figures/Drift.Migration/Mig_Bot_Vary\"\n",
    "\n",
    "# ggsave(\"PropSig_Mig.pdf\", plot = PropSig_Mig, device = \"pdf\", width = 6.0, height = 6.0, path = path, dpi = 600)\n",
    "# ggsave(\"HistSlopes_pA_NoMig.pdf\", plot = HistSlopes_pA_NoMig, device = \"pdf\", width = 6.0, height = 6.0, path = path, dpi = 600)\n",
    "# ggsave(\"HistSlopes_HCN_NoMig.pdf\", plot = HistSlopes_Cyan_NoMig, device = \"pdf\", width = 6.0, height = 6.0, path = path, dpi = 600)\n",
    "# ggsave(\"MeanSlope_Mig_Type.pdf\", plot = MeanSlope_Mig_Type, device = \"pdf\", width = 6.0, height = 6.0, path = path, dpi = 600)\n",
    "\n",
    "ggsave(\"MeanSlope_Mig_Type.pdf\", plot = MeanSlope_Mig_Type, device = \"pdf\", width = 6.0, height = 6.0, path = path, dpi = 600)\n",
    "ggsave(\"PropSig_Mig.pdf\", plot = PropSig_Mig, device = \"pdf\", width = 6.0, height = 6.0, path = path, dpi = 600)\n"
   ]
  }
 ],
 "metadata": {
  "kernelspec": {
   "display_name": "R",
   "language": "R",
   "name": "ir"
  },
  "language_info": {
   "codemirror_mode": "r",
   "file_extension": ".r",
   "mimetype": "text/x-r-source",
   "name": "R",
   "pygments_lexer": "r",
   "version": "3.3.2"
  }
 },
 "nbformat": 4,
 "nbformat_minor": 2
}
