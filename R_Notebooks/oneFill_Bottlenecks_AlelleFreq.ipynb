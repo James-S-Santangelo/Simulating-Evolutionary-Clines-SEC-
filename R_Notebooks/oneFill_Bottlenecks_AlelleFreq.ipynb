{
 "cells": [
  {
   "cell_type": "code",
   "execution_count": null,
   "metadata": {},
   "outputs": [],
   "source": [
    "library(plyr)\n",
    "library(ggplot2)\n",
    "library(data.table)\n",
    "library(Rmisc)\n",
    "library(dplyr)"
   ]
  },
  {
   "cell_type": "code",
   "execution_count": null,
   "metadata": {},
   "outputs": [],
   "source": [
    "#Working directory for datasets varying migration rate and bottleneck proportion \n",
    "setwd('/scratch/research/projects/trifolium/SEC_Simulation.Evolutionary.Clines/SEC_Data/drift-migration/1D/AlleleFreq_Vary/one-fill/')\n",
    "\n",
    "#Load datasets that will be used for analyses\n",
    "datSlopes <- fread('20171016_SlopeSum_Gen_AlleleFreq-Merged.csv', header = T)\n",
    "datSlopes$AlleleFreqs <- paste(datSlopes$pA_start, datSlopes$pB_start, sep = \"-\")\n",
    "datSlopes$AlleleFreqs <- as.factor(as.character(datSlopes$AlleleFreqs))\n",
    "datSlopes$AlleleFreqs <- factor(datSlopes$AlleleFreqs, levels=c(\"0.1-0.1\", \"0.1-0.5\", \"0.5-0.1\", \"0.1-0.9\", \n",
    "                                                                \"0.9-0.1\", \"0.5-0.5\", \"0.5-0.9\", \"0.9-0.5\", \n",
    "                                                                \"0.9-0.9\"))\n",
    "\n",
    "#Data subsets\n",
    "datSlopes_GenOne <- subset(datSlopes, seq == \"1\")\n",
    "# datFreqFirst_bot001_NoMig <- subset(datFreqFirst, bot == \"0.01\" & Mig_rate == \"0\")\n",
    "# datFreqFirst_bot02_NoMig <- subset(datFreqFirst, bot == \"0.2\" & Mig_rate == \"0\")\n",
    "# datFreqFirst_bot001_HighMig <- subset(datFreqFirst, bot == \"0.01\" & Mig_rate == \"0.05\")"
   ]
  }
 ],
 "metadata": {
  "kernelspec": {
   "display_name": "R",
   "language": "R",
   "name": "ir"
  },
  "language_info": {
   "codemirror_mode": "r",
   "file_extension": ".r",
   "mimetype": "text/x-r-source",
   "name": "R",
   "pygments_lexer": "r",
   "version": "3.3.2"
  }
 },
 "nbformat": 4,
 "nbformat_minor": 2
}
